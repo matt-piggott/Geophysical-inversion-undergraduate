{
 "cells": [
  {
   "cell_type": "markdown",
   "metadata": {
    "slideshow": {
     "slide_type": "slide"
    }
   },
   "source": [
    "# EART 70013  <a class=\"tocSkip\">\n",
    "    \n",
    "# Applied Inversion Methods <a class=\"tocSkip\">    \n",
    "    \n",
    "## Lecture 4 - Homework solutions <a class=\"tocSkip\">  "
   ]
  },
  {
   "cell_type": "markdown",
   "metadata": {
    "toc": true
   },
   "source": [
    "<h1>Table of Contents<span class=\"tocSkip\"></span></h1>\n",
    "<div class=\"toc\"><ul class=\"toc-item\"><li><span><a href=\"#Homework\" data-toc-modified-id=\"Homework-1\"><span class=\"toc-item-num\">1&nbsp;&nbsp;</span>Homework</a></span><ul class=\"toc-item\"><li><span><a href=\"#Homework---Row-operations-on-an-over-determined-problem\" data-toc-modified-id=\"Homework---Row-operations-on-an-over-determined-problem-1.1\"><span class=\"toc-item-num\">1.1&nbsp;&nbsp;</span>Homework - Row operations on an over-determined problem</a></span><ul class=\"toc-item\"><li><span><a href=\"#Solution\" data-toc-modified-id=\"Solution-1.1.1\"><span class=\"toc-item-num\">1.1.1&nbsp;&nbsp;</span>Solution</a></span></li></ul></li><li><span><a href=\"#Homework---An-over-determined-system-with-(by-construction)-an-exact-solution\" data-toc-modified-id=\"Homework---An-over-determined-system-with-(by-construction)-an-exact-solution-1.2\"><span class=\"toc-item-num\">1.2&nbsp;&nbsp;</span>Homework - An over-determined system with (by construction) an exact solution</a></span><ul class=\"toc-item\"><li><span><a href=\"#Solution\" data-toc-modified-id=\"Solution-1.2.1\"><span class=\"toc-item-num\">1.2.1&nbsp;&nbsp;</span>Solution</a></span></li></ul></li><li><span><a href=\"#Homework---Least-squares-solution-as-a-compromise-between-all-constraints\" data-toc-modified-id=\"Homework---Least-squares-solution-as-a-compromise-between-all-constraints-1.3\"><span class=\"toc-item-num\">1.3&nbsp;&nbsp;</span>Homework - Least squares solution as a compromise between all constraints</a></span><ul class=\"toc-item\"><li><span><a href=\"#Solution\" data-toc-modified-id=\"Solution-1.3.1\"><span class=\"toc-item-num\">1.3.1&nbsp;&nbsp;</span>Solution</a></span></li></ul></li><li><span><a href=\"#Homework---An-even-simpler-over-determined-case\" data-toc-modified-id=\"Homework---An-even-simpler-over-determined-case-1.4\"><span class=\"toc-item-num\">1.4&nbsp;&nbsp;</span>Homework - An even simpler over-determined case</a></span><ul class=\"toc-item\"><li><span><a href=\"#Solution\" data-toc-modified-id=\"Solution-1.4.1\"><span class=\"toc-item-num\">1.4.1&nbsp;&nbsp;</span>Solution</a></span></li></ul></li><li><span><a href=\"#Homework---Outer-product\" data-toc-modified-id=\"Homework---Outer-product-1.5\"><span class=\"toc-item-num\">1.5&nbsp;&nbsp;</span>Homework - Outer-product</a></span><ul class=\"toc-item\"><li><span><a href=\"#Solution\" data-toc-modified-id=\"Solution-1.5.1\"><span class=\"toc-item-num\">1.5.1&nbsp;&nbsp;</span>Solution</a></span></li></ul></li><li><span><a href=\"#Homework---Matrix-rank-and-RREF-(a-non-square-case)\" data-toc-modified-id=\"Homework---Matrix-rank-and-RREF-(a-non-square-case)-1.6\"><span class=\"toc-item-num\">1.6&nbsp;&nbsp;</span>Homework - Matrix rank and RREF (a non-square case)</a></span><ul class=\"toc-item\"><li><span><a href=\"#Solution\" data-toc-modified-id=\"Solution-1.6.1\"><span class=\"toc-item-num\">1.6.1&nbsp;&nbsp;</span>Solution</a></span></li></ul></li><li><span><a href=\"#Homework---Minimal-norm-solution-to-under-determined-problem\" data-toc-modified-id=\"Homework---Minimal-norm-solution-to-under-determined-problem-1.7\"><span class=\"toc-item-num\">1.7&nbsp;&nbsp;</span>Homework - Minimal-norm solution to under-determined problem</a></span><ul class=\"toc-item\"><li><span><a href=\"#Solution\" data-toc-modified-id=\"Solution-1.7.1\"><span class=\"toc-item-num\">1.7.1&nbsp;&nbsp;</span>Solution</a></span></li></ul></li></ul></li></ul></div>"
   ]
  },
  {
   "cell_type": "code",
   "execution_count": 1,
   "metadata": {},
   "outputs": [],
   "source": [
    "%matplotlib inline\n",
    "import numpy as np\n",
    "import matplotlib.pyplot as plt\n",
    "import scipy.linalg as sl\n",
    "from pprint import pprint\n",
    "import scipy.interpolate as si"
   ]
  },
  {
   "cell_type": "markdown",
   "metadata": {},
   "source": [
    "# Homework"
   ]
  },
  {
   "cell_type": "markdown",
   "metadata": {},
   "source": [
    "## Homework - Row operations on an over-determined problem\n",
    "\n",
    "Consider the following example from the lecture\n",
    "\n",
    "$$\n",
    "\\begin{align*}\n",
    "  2x + 3y &= 7 \\\\[5pt]\n",
    "   x - 4y &= 3 \\\\[5pt]\n",
    "  -3x - 10y & = -11\n",
    "\\end{align*}\n",
    "   \\quad \\iff \\quad\n",
    "  \\begin{pmatrix}\n",
    "    2 & 3 \\\\\n",
    "    1 & -4  \\\\\n",
    "    -3 & -10 \n",
    "  \\end{pmatrix}\n",
    "  \\begin{pmatrix}\n",
    "    x \\\\\n",
    "    y \n",
    "  \\end{pmatrix}=\n",
    "  \\begin{pmatrix}\n",
    "    7 \\\\\n",
    "    3 \\\\\n",
    "    -11\n",
    "  \\end{pmatrix}   \n",
    "$$\n",
    "\n",
    "Use row operations on the augmented system in an attempt to solve this problem.\n",
    "\n",
    "<br>\n",
    "\n",
    "In doing this you will be able to also establish the rank of $A$ and the rank of the augmented matrix.\n",
    "\n",
    "What relationship do you need between these two values in order for the problem to have a solution?\n",
    "\n",
    "Can you think of an example where this wouldn't be the case and you have a system without an exact solution?"
   ]
  },
  {
   "cell_type": "markdown",
   "metadata": {},
   "source": [
    "### Solution\n",
    "\n",
    "For the augmented system\n",
    "\n",
    "$$\n",
    "[A \\, | \\, \\boldsymbol{b}] = \n",
    "\\left[\n",
    "  \\begin{array}{rr|r}\n",
    "    2 & 3 & 7\\\\\n",
    "    1 & -4 & 3 \\\\\n",
    "    -3 & -10 & -11 \n",
    "  \\end{array}\n",
    "\\right]\n",
    "$$\n",
    "\n",
    "Swap rows as an easy way to get a \"1\" top left\n",
    "\n",
    "$$\n",
    "\\left[\n",
    "  \\begin{array}{rr|r}\n",
    "    1 & -4 & 3 \\\\\n",
    "    2 & 3 & 7\\\\\n",
    "    -3 & -10 & -11 \n",
    "  \\end{array}\n",
    "\\right]\n",
    "$$\n",
    "\n",
    "use the \"1\" to set the values below to \"0\"\n",
    "\n",
    "$$\n",
    "\\left[\n",
    "  \\begin{array}{rr|r}\n",
    "    1 & -4 & 3 \\\\\n",
    "    0 & 11 & 1\\\\\n",
    "    0 & -22 & -2 \n",
    "  \\end{array}\n",
    "\\right]\n",
    "$$\n",
    "\n",
    "Now scale a row to get a \"1\" as the leading entry of the next row\n",
    "\n",
    "$$\n",
    "\\left[\n",
    "  \\begin{array}{rr|r}\n",
    "    1 & -4 & 3 \\\\\n",
    "    0 & 1 & 1/11\\\\\n",
    "    0 & -1 & -1/11 \n",
    "  \\end{array}\n",
    "\\right]\n",
    "$$\n",
    "\n",
    "use if to set entries above and below to zero\n",
    "\n",
    "$$\n",
    "\\left[\n",
    "  \\begin{array}{rr|r}\n",
    "    1 & 0 & 3+4/11 \\\\\n",
    "    0 & 1 & 1/11\\\\\n",
    "    0 & 0 & 0 \n",
    "  \\end{array}\n",
    "\\right]\n",
    "$$\n",
    "\n",
    "and so this problem has the unique solution $ x = 3+4/11 = 37/11$ and $y = 1/11$.\n",
    "\n",
    "Key here was that $\\text{rank}([A|\\boldsymbol{b}]) = \\text{rank}(A)$.\n",
    "\n",
    "\n",
    "<br>\n",
    "\n",
    "What would have been the outcome if we ended up with the final form\n",
    "\n",
    "$$\n",
    "\\left[\n",
    "  \\begin{array}{rr|r}\n",
    "    1 & 0 & 3+4/11 \\\\\n",
    "    0 & 1 & 1/11\\\\\n",
    "    0 & 0 & 1 \n",
    "  \\end{array}\n",
    "\\right]\n",
    "$$\n",
    "\n",
    "i.e. a situation where $\\text{rank}([A|\\boldsymbol{b}]) > \\text{rank}(A)$?\n",
    "\n",
    "Our system would have had no solution as the three equations would have been inconsistent."
   ]
  },
  {
   "cell_type": "markdown",
   "metadata": {},
   "source": [
    "## Homework - An over-determined system with (by construction) an exact solution\n",
    "\n",
    "Recall the simple over-determined problem from the lecture\n",
    "\n",
    "`A = np.array([[2, 3], [1, -4], [1, 10]])`\n",
    "\n",
    "You were asked to think about how you could change the RHS vector only in order to come up with a version of the over-determined problem that has an exact solution. You were given the hint to think about the range of the LHS matrix $A$"
   ]
  },
  {
   "cell_type": "markdown",
   "metadata": {},
   "source": [
    "### Solution\n",
    "\n",
    "All we need to do is ensure that the RHS vector is in the range of $A$. If it is then we can take an appropriate weighted sum of the columns in order to reach that point, these weights in turn are the solution to the problem $\\boldsymbol{x}$.\n",
    "\n",
    "As an example let's just take $\\boldsymbol{b}$ to be the sum of the columns.\n",
    "\n",
    "If our argument is right the three lines visualising the three equations/constriants should all coincide at a single location, e.g here that should be at the location $\\boldsymbol{x} = (1,1)^T$.\n",
    "\n",
    "Let's plot this situation to check"
   ]
  },
  {
   "cell_type": "code",
   "execution_count": 2,
   "metadata": {},
   "outputs": [
    {
     "data": {
      "text/plain": [
       "[<matplotlib.lines.Line2D at 0x24e10dc0d88>]"
      ]
     },
     "execution_count": 2,
     "metadata": {},
     "output_type": "execute_result"
    },
    {
     "data": {
      "image/png": "[encoded data removed]",
      "text/plain": [
       "<Figure size 360x360 with 1 Axes>"
      ]
     },
     "metadata": {
      "needs_background": "light"
     },
     "output_type": "display_data"
    }
   ],
   "source": [
    "A = np.array([[2, 3], [1, -4], [1, 10]])\n",
    "\n",
    "\n",
    "# take b to be the sum of the two columns of A\n",
    "b = A[:,0] + A[:,1]\n",
    "\n",
    "# Form the matrix A.T @ A\n",
    "ATA = A.T @ A  \n",
    "\n",
    "# Form the RHS vector:\n",
    "rhs = A.T @ b\n",
    "\n",
    "# plot the three lines\n",
    "x = np.linspace(-1,5,100)\n",
    "\n",
    "y1 = -(2./3.)*x + (b[0]/3.)\n",
    "y2 = (1./4.)*x - (b[1]/4.)\n",
    "y3 = -(1./10.)*x + (b[2]/10.)\n",
    "\n",
    "fig = plt.figure(figsize=(5, 5))\n",
    "\n",
    "ax1 = fig.add_subplot(111)\n",
    "\n",
    "ax1.set_xlabel(\"$x$\", fontsize=14)\n",
    "ax1.set_ylabel(\"$y$\", fontsize=14)\n",
    "ax1.set_title('Two lines', fontsize=14)\n",
    "ax1.grid(True)\n",
    "\n",
    "ax1.plot(x,y1,'b')\n",
    "ax1.plot(x,y2,'r')\n",
    "ax1.plot(x,y3,'g')\n",
    "\n",
    "# plot what we hope should be the solution\n",
    "ax1.plot(1, 1, 'ko')\n"
   ]
  },
  {
   "cell_type": "markdown",
   "metadata": {},
   "source": [
    "## Homework - Least squares solution as a compromise between all constraints\n",
    "\n",
    "At the end of the lecture we showed an example and noted that the least squares solution was attempting to satisfy all three constraint equations, and that the specific value found was the one which minimised $\\| A\\boldsymbol{x} - \\boldsymbol{b}\\|_2$.\n",
    "\n",
    "By perturbing the values of the obtained least squares solution, show that it is indeed the case that these lead to $\\| A\\boldsymbol{x} - \\boldsymbol{b}\\|_2$ growing."
   ]
  },
  {
   "cell_type": "markdown",
   "metadata": {},
   "source": [
    "### Solution"
   ]
  },
  {
   "cell_type": "code",
   "execution_count": 3,
   "metadata": {},
   "outputs": [
    {
     "name": "stdout",
     "output_type": "stream",
     "text": [
      "[[ 2  1  1]\n",
      " [ 3 -4 10]] [ 7  3 -1]\n",
      "array([16, -1])\n",
      "[[ 2  1]\n",
      " [ 3 -4]] [7 3]\n",
      "array([17,  9])\n",
      "[[ 2  1]\n",
      " [ 3 10]] [ 7 -1]\n",
      "array([13, 11])\n",
      "[[ 1  1]\n",
      " [-4 10]] [ 3 -1]\n",
      "array([  2, -22])\n"
     ]
    },
    {
     "data": {
      "text/plain": [
       "<matplotlib.legend.Legend at 0x24e10f15e48>"
      ]
     },
     "execution_count": 3,
     "metadata": {},
     "output_type": "execute_result"
    },
    {
     "data": {
      "image/png": "[encoded data removed]",
      "text/plain": [
       "<Figure size 360x360 with 1 Axes>"
      ]
     },
     "metadata": {
      "needs_background": "light"
     },
     "output_type": "display_data"
    }
   ],
   "source": [
    "A = np.array([[2, 3], [1, -4], [1, 10]])\n",
    "b = np.array([7,3,-1])\n",
    "\n",
    "def ls_solution(A,b):\n",
    "    ATA = A.T @ A  \n",
    "    # Form the RHS vector:\n",
    "    print(A.T,b)\n",
    "    rhs = A.T @ b.T\n",
    "    pprint(rhs)\n",
    "    # solve the system\n",
    "    return sl.solve(ATA, rhs)\n",
    "\n",
    "# solve our 3x2 problem using LS\n",
    "ls_sol = ls_solution(A, b)\n",
    "# solve the three individual 2x2 problems - can still use the LS code\n",
    "ls_sol1 = ls_solution(A[ [0,1] ,: ], b[ [0,1] ])\n",
    "ls_sol2 = ls_solution(A[ [0,2] ,: ], b[ [0,2] ])\n",
    "ls_sol3 = ls_solution(A[ [1,2] ,: ], b[ [1,2] ])\n",
    "\n",
    "# plot this solution to see where it lies\n",
    "x = np.linspace(0,5,100)\n",
    "\n",
    "y1 = -(2./3.)*x + (7./3.)\n",
    "y2 = (1./4.)*x - (3./4.)\n",
    "y3 = -(1./10.)*x - (1./10.)\n",
    "\n",
    "\n",
    "fig = plt.figure(figsize=(5, 5))\n",
    "\n",
    "ax1 = fig.add_subplot(111)\n",
    "\n",
    "ax1.set_xlabel(\"$x$\", fontsize=14)\n",
    "ax1.set_ylabel(\"$y$\", fontsize=14)\n",
    "ax1.grid(True)\n",
    "\n",
    "ax1.plot(x,y1,'b', label='$2x+3y=7$')\n",
    "ax1.plot(x,y2,'r', label='$x-4y=3$')\n",
    "ax1.plot(x,y3,'g', label='$x+10y=-1$')\n",
    "ax1.plot(ls_sol1[0], ls_sol1[1], 'ko', label='solution 1')\n",
    "ax1.plot(ls_sol2[0], ls_sol2[1], 'ko', label='solution 2')\n",
    "ax1.plot(ls_sol3[0], ls_sol3[1], 'ko', label='solution 3')\n",
    "ax1.plot(ls_sol[0], ls_sol[1], 'bo', label='LS solution (all)')\n",
    "\n",
    "ax1.legend(loc='best', fontsize=14)"
   ]
  },
  {
   "cell_type": "code",
   "execution_count": 4,
   "metadata": {},
   "outputs": [
    {
     "name": "stdout",
     "output_type": "stream",
     "text": [
      "[[ 2  1  1]\n",
      " [ 3 -4 10]] [ 7  3 -1]\n",
      "array([16, -1])\n",
      "[[ 2  1  1]\n",
      " [ 3 -4 10]] [ 7  3 -1]\n",
      "array([16, -1])\n"
     ]
    },
    {
     "data": {
      "text/plain": [
       "[<matplotlib.lines.Line2D at 0x24e10fb0d48>]"
      ]
     },
     "execution_count": 4,
     "metadata": {},
     "output_type": "execute_result"
    },
    {
     "data": {
      "image/png": "[encoded data removed]",
      "text/plain": [
       "<Figure size 360x360 with 2 Axes>"
      ]
     },
     "metadata": {
      "needs_background": "light"
     },
     "output_type": "display_data"
    }
   ],
   "source": [
    "A = np.array([[2, 3], [1, -4], [1, 10]])\n",
    "b = np.array([7,3,-1])\n",
    "\n",
    "# solve our 3x2 problem using LS\n",
    "ls_sol = ls_solution(A, b)\n",
    "\n",
    "# construct a grid of points in (x,y) around this solution location \n",
    "pert = 1.\n",
    "# construct a mesh\n",
    "# 100 points spread either side of ls_sol, of extent pert\n",
    "x = np.linspace(ls_sol[0] - pert, ls_sol[0] + pert, 100)\n",
    "y = np.linspace(ls_sol[1] - pert, ls_sol[1] + pert, 100)\n",
    "errors = np.zeros([len(x), len(y)])\n",
    "for i, xi in enumerate(x):\n",
    "    for j, yj in enumerate(y):\n",
    "        errors[i,j] = np.linalg.norm( A@np.array([xi, yj]) - b)\n",
    "\n",
    "fig = plt.figure(figsize=(5, 5))\n",
    "ax1 = fig.add_subplot(111)\n",
    "\n",
    "ax1.set_xlabel(\"$x$\", fontsize=14)\n",
    "ax1.set_ylabel(\"$y$\", fontsize=14)\n",
    "ax1.grid(True)\n",
    "\n",
    "cs = ax1.contourf(x,y,errors)\n",
    "fig.colorbar(cs, ax=ax1)\n",
    "# add our LS solution\n",
    "ls_sol = ls_solution(A, b)\n",
    "\n",
    "ax1.plot(ls_sol[0], ls_sol[1], 'r*')\n"
   ]
  },
  {
   "cell_type": "markdown",
   "metadata": {},
   "source": [
    "## Homework - An even simpler over-determined case\n",
    "\n",
    "In the lecture, and above, we considered the simple case of three equations, two unknowns.\n",
    "\n",
    "Of course there is an even simpler case - two-equations, one unknown.\n",
    "\n",
    "An example might be\n",
    "\n",
    "$$\n",
    "\\begin{align*}\n",
    "  2x &= 8 \\\\[5pt]\n",
    "   3x &= 9\n",
    "\\end{align*}\n",
    "   \\quad \\iff \\quad\n",
    "  \\begin{pmatrix}\n",
    "    2 \\\\[5pt]\n",
    "    3\n",
    "  \\end{pmatrix}\n",
    "  \\begin{pmatrix}\n",
    "    x \n",
    "  \\end{pmatrix}=\n",
    "  \\begin{pmatrix}\n",
    "    8 \\\\\n",
    "    9 \n",
    "  \\end{pmatrix}   \n",
    "$$\n",
    "\n",
    "Does this have a solution?\n",
    "\n",
    "No clearly not. What solution does the least square approach return?"
   ]
  },
  {
   "cell_type": "markdown",
   "metadata": {},
   "source": [
    "### Solution\n",
    "\n",
    "Let's do it by hand and then with code.\n",
    "\n",
    "The least squares solution will minimise the quantity $\\| A\\boldsymbol{x} - \\boldsymbol{b}\\|_2$, \n",
    "\n",
    "i.e. here (squaring for simplicity), that minimises\n",
    "\n",
    "$$\n",
    "\\left\\| \n",
    "\\begin{align*}\n",
    "  2x - 8 \\\\[5pt]\n",
    "   3x - 9\n",
    "\\end{align*}\n",
    "\\right\\|_2^2\n",
    " = { (2x - 8)^2 + (3x - 9)^2 }\n",
    "$$\n",
    "\n",
    "This is equal to \n",
    "\n",
    "$$ (4 x^2  -32 x + 64) + (9 x^2  -54 x + 81) = 13 x^2  -86 x +  145 $$\n",
    "\n",
    "to find the $x$ that minimises this let's differentiate and set to zero:\n",
    "\n",
    "$$26 x - 86 = 0 \\Rightarrow x = 86/26 = 43/13$$\n",
    "\n",
    "<br>\n",
    "\n",
    "Now let's compute by hand what the least squares implementation from the lecture does, i.e. solve \n",
    "\n",
    "$$A^TA\\boldsymbol{x} = A^T\\boldsymbol{b}$$\n",
    "\n",
    "Here \n",
    "\n",
    "$$ A^TA = (2, 3) \n",
    "  \\begin{pmatrix}\n",
    "  2 \\\\[5pt]\n",
    "   3\n",
    "  \\end{pmatrix}\n",
    " = 13\n",
    " $$\n",
    " \n",
    " and\n",
    " \n",
    "$$A^T\\boldsymbol{b} = (2,3)\n",
    "  \\begin{pmatrix}\n",
    "  8 \\\\[5pt]\n",
    "   9\n",
    "  \\end{pmatrix}\n",
    "= 43$$\n",
    "\n",
    "and so this also produces $ x = 43/13$.\n",
    "\n",
    "Let's implement in code and check we get the same answer."
   ]
  },
  {
   "cell_type": "code",
   "execution_count": 5,
   "metadata": {},
   "outputs": [
    {
     "name": "stdout",
     "output_type": "stream",
     "text": [
      "[[3.30769231]] 3.3076923076923075\n"
     ]
    }
   ],
   "source": [
    "A = np.array([ [2], [3] ])\n",
    "b = np.array([ [8], [9] ])\n",
    "# Form the matrix A.T @ A\n",
    "ATA = A.T @ A  \n",
    "\n",
    "# Form the RHS vector:\n",
    "rhs = A.T @ b\n",
    "\n",
    "# solve the system\n",
    "ls_sol = sl.solve(ATA, rhs)\n",
    "\n",
    "print(ls_sol, 43/13)"
   ]
  },
  {
   "cell_type": "markdown",
   "metadata": {},
   "source": [
    "## Homework - Outer-product\n",
    "\n",
    "Compute the outer-product ($\\boldsymbol{a}\\boldsymbol{b}^T$) of the column vectors\n",
    "\n",
    "$$\\boldsymbol{a} = \n",
    "\\begin{pmatrix}\n",
    "1 \\\\\n",
    "2\\\\\n",
    "3 \n",
    "\\end{pmatrix}, \n",
    "\\qquad\n",
    "\\boldsymbol{b} = \n",
    "\\begin{pmatrix}\n",
    "4 \\\\\n",
    "5\\\\\n",
    "6 \n",
    "\\end{pmatrix}.\n",
    "$$\n",
    "\n",
    "What is the resulting matrices rank?"
   ]
  },
  {
   "cell_type": "markdown",
   "metadata": {},
   "source": [
    "### Solution\n",
    "$$\n",
    "\\boldsymbol{a}\\boldsymbol{b}^T\n",
    "= \n",
    "\\begin{pmatrix}\n",
    "1 \\\\\n",
    "2\\\\\n",
    "3 \n",
    "\\end{pmatrix}\n",
    "\\begin{pmatrix}\n",
    "4, 5, 6\n",
    "\\end{pmatrix}=\n",
    "\\begin{pmatrix}\n",
    "4 & 5 & 6  \\\\\n",
    "8 & 10 & 12  \\\\\n",
    "12 & 15 & 18  \n",
    "\\end{pmatrix}\n",
    "$$\n",
    "\n",
    "which with row operations we could trivially arrive at\n",
    "\n",
    "$$\n",
    "\\begin{pmatrix}\n",
    "4 & 5 & 6  \\\\\n",
    "0 & 0 & 0  \\\\\n",
    "0 & 0 & 0  \n",
    "\\end{pmatrix}\n",
    "$$\n",
    "\n",
    "so there is only a single linearly independent row (equivalently only a single linearly independent column).  The rank is therefore indeed 1."
   ]
  },
  {
   "cell_type": "markdown",
   "metadata": {},
   "source": [
    "## Homework - Matrix rank and RREF (a non-square case)\n",
    "\n",
    "Consider the rectangular matrix\n",
    "\n",
    "$$\n",
    "\\begin{pmatrix}\n",
    "3 & 1 & 9 & 4 \\\\\n",
    "2 & 1 & 7 & 3 \\\\\n",
    "5 & 2 & 16 & 7 \n",
    "\\end{pmatrix}\n",
    "$$\n",
    "\n",
    "convert to REF and RREF. \n",
    "\n",
    "From these what is the rank of this matrix?\n",
    "\n",
    "What is the null space?"
   ]
  },
  {
   "cell_type": "markdown",
   "metadata": {},
   "source": [
    "### Solution \n",
    "\n",
    "\n",
    "The RREF is\n",
    "\n",
    "$$\n",
    "\\begin{pmatrix}\n",
    "1 & 0 & 2 & 1 \\\\\n",
    "0 & 1 & 3 & 1 \\\\\n",
    "0 & 0 & 0 & 0 \n",
    "\\end{pmatrix}\n",
    "$$\n",
    "\n",
    "This is formed of two linearly independent columns  (and equivalently  of  only  two independent rows) so its rank is 2. This is less that the minimum of $m$ and $n$ and so the matrix is not full rank.\n",
    "\n",
    "Now consider the augmented matrix representing three linear equations in four unknowns (the RHS vector is all zero)\n",
    "\n",
    "$$\n",
    "\\left(\n",
    "  \\begin{array}{cccc|c}\n",
    "3 & 1 & 9 & 4 & 0 \\\\\n",
    "2 & 1 & 7 & 3 & 0 \\\\\n",
    "5 & 2 & 16 & 7 & 0 \n",
    "  \\end{array}\n",
    "\\right)$$\n",
    "\n",
    "The RREF is\n",
    "\n",
    "$$\n",
    "\\left(\n",
    "  \\begin{array}{cccc|c}\n",
    "1 & 0 & 2 & 1 & 0 \\\\\n",
    "0 & 1 & 3 & 1 & 0 \\\\\n",
    "0 & 0 & 0 & 0 & 0 \n",
    "  \\end{array}\n",
    "\\right)$$\n",
    "\n",
    "so any vector for which $v_1 + 2v_3 + v_4=0$ and $v_2 + 3v_3 + v_4=0$\n",
    "will be a solution of $A\\boldsymbol{v} = \\boldsymbol{0}$ \n",
    "and thus will lie in the null space of $A$.\n",
    "\n",
    "If we chose arbitrary values for the variables that appear more than once, say $v_3 = \\alpha$ and $v_4 = \\beta$, then we obtain $v_1 = -2\\alpha - \\beta$ and $v_2=-3\\alpha-\\beta$.\n",
    "\n",
    "Therefore note that the solution for $v$ in the null space can be written as\n",
    "\n",
    "$$\\boldsymbol{v} = \\alpha \n",
    "\\begin{pmatrix}\n",
    "-2 \\\\\n",
    "-3\\\\\n",
    "1\\\\\n",
    "0\n",
    "\\end{pmatrix} \n",
    "+\\beta\n",
    "\\begin{pmatrix}\n",
    "-1 \\\\\n",
    "-1\\\\\n",
    "0\\\\\n",
    "1\n",
    "\\end{pmatrix} \n",
    "$$\n",
    "\n",
    "That is, any vector in the null space of $A$ can be written as a linear combination of the two \n",
    "vectors above.  This null space is a two-dimensional plane within $\\mathbb{R}^4$.\n",
    "The null space thus  forms a sub-space of  $\\mathbb{R}^4$.\n",
    "\n",
    "Note that the number of independent vectors that must be linearly combined to form the null \n",
    "space is equal to the number of non-pivot columns in the RREF.   \n",
    "\n",
    "Now consider the problem $A\\boldsymbol{x}=\\boldsymbol{b}$ where\n",
    "\n",
    "$$\\boldsymbol{b} = \\begin{pmatrix}\n",
    "22 \\\\\n",
    "17\\\\\n",
    "39\n",
    "\\end{pmatrix} $$\n",
    "\n",
    "One particular solution to this is \n",
    "\n",
    "$$\\boldsymbol{x}_{\\text{part}} = \\begin{pmatrix}\n",
    "1 \\\\\n",
    "2\\\\\n",
    "1 \\\\\n",
    "2\n",
    "\\end{pmatrix} $$\n",
    "\n",
    "We can add to this solution any vector from the null space and by linearity it will be another solution, e.g.\n",
    "\n",
    "\n",
    "$$\\boldsymbol{x} = \\begin{pmatrix}\n",
    "1 \\\\\n",
    "2\\\\\n",
    "1 \\\\\n",
    "2\n",
    "\\end{pmatrix}\n",
    "+\n",
    "2\n",
    "\\begin{pmatrix}\n",
    "-2 \\\\\n",
    "-3\\\\\n",
    "1\\\\\n",
    "0\n",
    "\\end{pmatrix} \n",
    "+3\n",
    "\\begin{pmatrix}\n",
    "-1 \\\\\n",
    "-1\\\\\n",
    "0\\\\\n",
    "1\n",
    "\\end{pmatrix}\n",
    "=\n",
    "\\begin{pmatrix}\n",
    "-6 \\\\\n",
    "-7\\\\\n",
    "3\\\\\n",
    "5\n",
    "\\end{pmatrix}$$\n",
    "\n",
    "So the presence of a null space leads to non-uniqueness of solutions."
   ]
  },
  {
   "cell_type": "markdown",
   "metadata": {},
   "source": [
    "## Homework - Minimal-norm solution to under-determined problem\n",
    "\n",
    "Let's begin this example from a problem already in RREF, the augmented form of the matrix with zero RHS being\n",
    "\n",
    "$$\n",
    "\\left(\n",
    "  \\begin{array}{cccc|c}\n",
    "1 & 0 & 4 & 0 & 0 \\\\\n",
    "0 & 1 & -2 & 0 & 0 \\\\\n",
    "0 & 0 & 0 & 1 & 0 \n",
    "  \\end{array}\n",
    "\\right)$$\n",
    "\n",
    "Show that the null space is given by any multiple of the following vector.\n",
    "\n",
    "$$\\boldsymbol{v}\n",
    "=\n",
    "\\begin{pmatrix}\n",
    "-4\\\\\n",
    "2\\\\\n",
    "1\\\\\n",
    "0\n",
    "\\end{pmatrix}\n",
    "$$\n",
    "\n",
    "Now consider the solution to the problem with RHS vector\n",
    "\n",
    "$$\\boldsymbol{b} = \\begin{pmatrix}\n",
    "1 \\\\\n",
    "-2\\\\\n",
    "3\n",
    "\\end{pmatrix} $$\n",
    "\n",
    "Use the minimum norm solution formula from the lecture to compute the solution.\n",
    "\n",
    "Establish that it is indeed the minimal-norm solution, i.e. that all other possible solutions you obtain by adding multiples of the null vector have a larger norm."
   ]
  },
  {
   "cell_type": "markdown",
   "metadata": {},
   "source": [
    "### Solution\n",
    "\n",
    "From the RREF the null space is described by the vector whose components satisfy\n",
    "\n",
    "$$\n",
    "\\begin{align*}\n",
    "v_1 + 4v_3&=0\\\\\n",
    "v_2 - 2v_3&=0\\\\\n",
    "v_4&=0\n",
    "\\end{align*}\n",
    "$$\n",
    "\n",
    "As above, let's encode all solutions to this via an arbitrary value: $v_3:=\\alpha$, then $v_1=-4\\alpha$, $v_2=2\\alpha$, \n",
    "and $v_4=0$. So the null space is a multiple of the vector\n",
    "\n",
    "$$\\boldsymbol{v}\n",
    "=\n",
    "\\begin{pmatrix}\n",
    "-4\\\\\n",
    "2\\\\\n",
    "1\\\\\n",
    "0\n",
    "\\end{pmatrix}\n",
    "$$"
   ]
  },
  {
   "cell_type": "code",
   "execution_count": 6,
   "metadata": {},
   "outputs": [
    {
     "name": "stdout",
     "output_type": "stream",
     "text": [
      "array([[ 0.23809524,  0.38095238,  0.        ],\n",
      "       [ 0.38095238,  0.80952381,  0.        ],\n",
      "       [ 0.19047619, -0.0952381 ,  0.        ],\n",
      "       [ 0.        ,  0.        ,  1.        ]])\n",
      "array([[ 1.0000000e+00, -4.4408921e-16,  0.0000000e+00],\n",
      "       [ 0.0000000e+00,  1.0000000e+00,  0.0000000e+00],\n",
      "       [ 0.0000000e+00,  0.0000000e+00,  1.0000000e+00]])\n",
      "Min norm solution:  [-0.52380952 -1.23809524  0.38095238  3.        ]\n",
      "True\n"
     ]
    }
   ],
   "source": [
    "# come up with an example with indpt equations\n",
    "G = np.array([\n",
    "    [1, 0, 4, 0],\n",
    "    [0, 1, -2, 0],\n",
    "    [0, 0, 0, 1]])\n",
    "d = np.array([1, -2, 3])\n",
    "\n",
    "# construct the right inverse:\n",
    "\n",
    "G_ri = G.T @ sl.inv(G@G.T)\n",
    "\n",
    "pprint(G_ri)\n",
    "\n",
    "# print it to check its the identity (to round off error)\n",
    "pprint(G@G_ri)\n",
    "\n",
    "x_m = G_ri@d\n",
    "\n",
    "print('Min norm solution: ',x_m)\n",
    "\n",
    "# check that this is a solution:   Gx = d?\n",
    "print(np.allclose(d, G@x_m))"
   ]
  },
  {
   "cell_type": "markdown",
   "metadata": {},
   "source": [
    "It should be the case that the addition of any multiple of the null space vector is also a solution:"
   ]
  },
  {
   "cell_type": "code",
   "execution_count": 7,
   "metadata": {},
   "outputs": [
    {
     "name": "stdout",
     "output_type": "stream",
     "text": [
      "True\n"
     ]
    },
    {
     "data": {
      "text/plain": [
       "[<matplotlib.lines.Line2D at 0x24e10f67208>]"
      ]
     },
     "execution_count": 7,
     "metadata": {},
     "output_type": "execute_result"
    },
    {
     "data": {
      "image/png": "[encoded data removed]",
      "text/plain": [
       "<Figure size 360x360 with 1 Axes>"
      ]
     },
     "metadata": {
      "needs_background": "light"
     },
     "output_type": "display_data"
    }
   ],
   "source": [
    "from numpy import linalg as nla\n",
    "\n",
    "# the null vector\n",
    "n = np.array([-4, 2, 1, 0])\n",
    "\n",
    "# add on a multiple and check it's still a solution\n",
    "mult = 1.\n",
    "\n",
    "x_p = x_m + mult*n\n",
    "\n",
    "print(np.allclose(d, G@x_p))\n",
    "\n",
    "\n",
    "# is x_m the minimum norm solution?\n",
    "\n",
    "# plot the norm of the vectors we get by adding on multiples of the numm vector\n",
    "fig = plt.figure(figsize=(5, 5))\n",
    "ax1 = fig.add_subplot(111)\n",
    "\n",
    "mult = np.linspace(-10,10,100)\n",
    "norms = []\n",
    "for m in mult:\n",
    "    print\n",
    "    norms.append(nla.norm(x_m + m*n))\n",
    "\n",
    "ax1.plot(mult,norms)\n",
    "\n",
    "# as we hoped for the norm is at a minimum when the multiplier is zero!"
   ]
  },
  {
   "cell_type": "markdown",
   "metadata": {},
   "source": [
    "From which we see that if we add any multiple of the null vector to the min norm solution, the value of the norm does indeed increase."
   ]
  }
 ],
 "metadata": {
  "celltoolbar": "Slideshow",
  "kernelspec": {
   "display_name": "Python 3 (ipykernel)",
   "language": "python",
   "name": "python3"
  },
  "language_info": {
   "codemirror_mode": {
    "name": "ipython",
    "version": 3
   },
   "file_extension": ".py",
   "mimetype": "text/x-python",
   "name": "python",
   "nbconvert_exporter": "python",
   "pygments_lexer": "ipython3",
   "version": "3.11.4"
  },
  "latex_envs": {
   "LaTeX_envs_menu_present": true,
   "autoclose": true,
   "autocomplete": true,
   "bibliofile": "biblio.bib",
   "cite_by": "apalike",
   "current_citInitial": 1,
   "eqLabelWithNumbers": true,
   "eqNumInitial": 1,
   "hotkeys": {
    "equation": "Ctrl-E",
    "itemize": "Ctrl-I"
   },
   "labels_anchors": false,
   "latex_user_defs": false,
   "report_style_numbering": false,
   "user_envs_cfg": true
  },
  "toc": {
   "base_numbering": 1,
   "nav_menu": {},
   "number_sections": true,
   "sideBar": true,
   "skip_h1_title": false,
   "title_cell": "Table of Contents",
   "title_sidebar": "Contents",
   "toc_cell": true,
   "toc_position": {},
   "toc_section_display": true,
   "toc_window_display": false
  },
  "varInspector": {
   "cols": {
    "lenName": 16,
    "lenType": 16,
    "lenVar": 40
   },
   "kernels_config": {
    "python": {
     "delete_cmd_postfix": "",
     "delete_cmd_prefix": "del ",
     "library": "var_list.py",
     "varRefreshCmd": "print(var_dic_list())"
    },
    "r": {
     "delete_cmd_postfix": ") ",
     "delete_cmd_prefix": "rm(",
     "library": "var_list.r",
     "varRefreshCmd": "cat(var_dic_list()) "
    }
   },
   "types_to_exclude": [
    "module",
    "function",
    "builtin_function_or_method",
    "instance",
    "_Feature"
   ],
   "window_display": false
  }
 },
 "nbformat": 4,
 "nbformat_minor": 1
}
