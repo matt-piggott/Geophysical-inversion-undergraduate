{
 "cells": [
  {
   "cell_type": "markdown",
   "metadata": {
    "slideshow": {
     "slide_type": "slide"
    }
   },
   "source": [
    "# EART97012  <a class=\"tocSkip\">\n",
    "    \n",
    "# Applied Inversion Methods <a class=\"tocSkip\">   \n",
    "    \n",
    "## Lecture 5 <a class=\"tocSkip\">  \n",
    "    \n",
    "### Homework Exercises - Solutions <a class=\"tocSkip\">"
   ]
  },
  {
   "cell_type": "markdown",
   "metadata": {
    "toc": true
   },
   "source": [
    "<h1>Table of Contents<span class=\"tocSkip\"></span></h1>\n",
    "<div class=\"toc\"><ul class=\"toc-item\"><li><span><a href=\"#Homework\" data-toc-modified-id=\"Homework-1\"><span class=\"toc-item-num\">1&nbsp;&nbsp;</span>Homework</a></span><ul class=\"toc-item\"><li><span><a href=\"#Homework---Rank-of-the-product-of-two-matrices-(and-the-outer-product-of-two-vectors)\" data-toc-modified-id=\"Homework---Rank-of-the-product-of-two-matrices-(and-the-outer-product-of-two-vectors)-1.1\"><span class=\"toc-item-num\">1.1&nbsp;&nbsp;</span>Homework - Rank of the product of two matrices (and the outer-product of two vectors)</a></span><ul class=\"toc-item\"><li><span><a href=\"#Solution\" data-toc-modified-id=\"Solution-1.1.1\"><span class=\"toc-item-num\">1.1.1&nbsp;&nbsp;</span>Solution</a></span></li></ul></li><li><span><a href=\"#Homework---A-simple-mixed-determined-problem-[solved-by-hand-and-using-the-pseudo-inverse]\" data-toc-modified-id=\"Homework---A-simple-mixed-determined-problem-[solved-by-hand-and-using-the-pseudo-inverse]-1.2\"><span class=\"toc-item-num\">1.2&nbsp;&nbsp;</span>Homework - A simple mixed determined problem [solved by hand and using the pseudo-inverse]</a></span><ul class=\"toc-item\"><li><span><a href=\"#Solution\" data-toc-modified-id=\"Solution-1.2.1\"><span class=\"toc-item-num\">1.2.1&nbsp;&nbsp;</span>Solution</a></span></li></ul></li><li><span><a href=\"#Homework---A-&quot;least-squares&quot;-and-minimum-norm-solution-to-a-simple-$2\\times-2$-case\" data-toc-modified-id=\"Homework---A-&quot;least-squares&quot;-and-minimum-norm-solution-to-a-simple-$2\\times-2$-case-1.3\"><span class=\"toc-item-num\">1.3&nbsp;&nbsp;</span>Homework - A \"least squares\" and minimum norm solution to a simple $2\\times 2$ case</a></span><ul class=\"toc-item\"><li><span><a href=\"#Solution-1\" data-toc-modified-id=\"Solution-1-1.3.1\"><span class=\"toc-item-num\">1.3.1&nbsp;&nbsp;</span>Solution 1</a></span></li><li><span><a href=\"#Solution-2\" data-toc-modified-id=\"Solution-2-1.3.2\"><span class=\"toc-item-num\">1.3.2&nbsp;&nbsp;</span>Solution 2</a></span></li></ul></li><li><span><a href=\"#Homework---Lagrange-multiplier-derivation-of-minimal-norm-solution\" data-toc-modified-id=\"Homework---Lagrange-multiplier-derivation-of-minimal-norm-solution-1.4\"><span class=\"toc-item-num\">1.4&nbsp;&nbsp;</span>Homework - Lagrange multiplier derivation of minimal-norm solution</a></span><ul class=\"toc-item\"><li><span><a href=\"#Solution\" data-toc-modified-id=\"Solution-1.4.1\"><span class=\"toc-item-num\">1.4.1&nbsp;&nbsp;</span>Solution</a></span></li></ul></li><li><span><a href=\"#Homework---Differentiation-of-inner-products\" data-toc-modified-id=\"Homework---Differentiation-of-inner-products-1.5\"><span class=\"toc-item-num\">1.5&nbsp;&nbsp;</span>Homework - Differentiation of inner products</a></span><ul class=\"toc-item\"><li><span><a href=\"#Solution\" data-toc-modified-id=\"Solution-1.5.1\"><span class=\"toc-item-num\">1.5.1&nbsp;&nbsp;</span>Solution</a></span></li></ul></li><li><span><a href=\"#Homework---Curve-fitting---response-to-outliers-[read-through]\" data-toc-modified-id=\"Homework---Curve-fitting---response-to-outliers-[read-through]-1.6\"><span class=\"toc-item-num\">1.6&nbsp;&nbsp;</span>Homework - Curve-fitting - response to outliers [read-through]</a></span></li><li><span><a href=\"#Homework---Tomography-example---rank-and-null-space\" data-toc-modified-id=\"Homework---Tomography-example---rank-and-null-space-1.7\"><span class=\"toc-item-num\">1.7&nbsp;&nbsp;</span>Homework - Tomography example - rank and null space</a></span><ul class=\"toc-item\"><li><span><a href=\"#Solution\" data-toc-modified-id=\"Solution-1.7.1\"><span class=\"toc-item-num\">1.7.1&nbsp;&nbsp;</span>Solution</a></span></li></ul></li><li><span><a href=\"#Homework---Tomography-example---solution-via-the-pseudo-inverse\" data-toc-modified-id=\"Homework---Tomography-example---solution-via-the-pseudo-inverse-1.8\"><span class=\"toc-item-num\">1.8&nbsp;&nbsp;</span>Homework - Tomography example - solution via the pseudo-inverse</a></span><ul class=\"toc-item\"><li><span><a href=\"#Solution\" data-toc-modified-id=\"Solution-1.8.1\"><span class=\"toc-item-num\">1.8.1&nbsp;&nbsp;</span>Solution</a></span></li></ul></li><li><span><a href=\"#Homework---Damped-least-squares-applied-to-the-tomography-example\" data-toc-modified-id=\"Homework---Damped-least-squares-applied-to-the-tomography-example-1.9\"><span class=\"toc-item-num\">1.9&nbsp;&nbsp;</span>Homework - Damped least squares applied to the tomography example</a></span><ul class=\"toc-item\"><li><span><a href=\"#Solution\" data-toc-modified-id=\"Solution-1.9.1\"><span class=\"toc-item-num\">1.9.1&nbsp;&nbsp;</span>Solution</a></span></li></ul></li></ul></li></ul></div>"
   ]
  },
  {
   "cell_type": "code",
   "execution_count": 9,
   "metadata": {},
   "outputs": [],
   "source": [
    "%matplotlib inline\n",
    "import numpy as np\n",
    "import matplotlib.pyplot as plt\n",
    "import scipy.linalg as sl\n",
    "from pprint import pprint\n",
    "import scipy.interpolate as si"
   ]
  },
  {
   "cell_type": "markdown",
   "metadata": {},
   "source": [
    "# Homework\n",
    "\n",
    "Recall that I use the notation \n",
    "$A\\boldsymbol{x} = \\boldsymbol{b}$ and $G\\boldsymbol{m} = \\boldsymbol{d}$ interchangeably"
   ]
  },
  {
   "cell_type": "markdown",
   "metadata": {},
   "source": [
    "## Homework - Rank of the product of two matrices (and the outer-product of two vectors)\n",
    "\n",
    "We stated in the lecture that a matrix product always has a rank that is less than or equal to the smallest rank of any of the constituent  matrices.    \n",
    "\n",
    "For gave the  example of  the  outer  product  $\\boldsymbol{a}\\boldsymbol{b}^T$  of  two column  vectors  must  be  rank  1 because vectors are only rank 1. \n",
    "\n",
    "Establish the second of these analytically, and test the first with some examples and use of `numpy`"
   ]
  },
  {
   "cell_type": "markdown",
   "metadata": {},
   "source": [
    "### Solution\n",
    "\n",
    "Consider \n",
    "\n",
    "$$\n",
    "\\boldsymbol{a} = (a_1 \\; a_2 \\; a_3)^T, \\qquad\n",
    "\\boldsymbol{b} = (b_1 \\; b_2 \\; b_3)^T\n",
    "$$\n",
    "\n",
    "The outer product is then\n",
    "\n",
    "\\begin{align}\n",
    "\\boldsymbol{a}\\boldsymbol{b}^T\n",
    "& = \n",
    "\\begin{pmatrix}\n",
    "a_1\\\\\n",
    "a_2\\\\\n",
    "a_3\n",
    "\\end{pmatrix}\n",
    "(b_1 \\; b_2 \\; b_3)\\\\\n",
    "& = \n",
    "\\begin{pmatrix}\n",
    "a_1b_1 & a_1b_2 & a_1b_3\\\\\n",
    "a_2b_1 & a_2b_2 & a_2b_3\\\\\n",
    "a_3b_1 & a_3b_2 & a_3b_3\\\\\n",
    "\\end{pmatrix}\n",
    "\\end{align}\n",
    "\n",
    "but this is just the matrix where each row is a scalar multiple of $\\boldsymbol{b}$, we can therefore perform row operations to cancel all but one of these rows (said another way, $\\boldsymbol{b}$ on its won provides a basis for the row-space of the matrix) and so the rank of this resulting matrix is just 1.\n",
    "\n",
    "<br><br>\n",
    "\n",
    "Now let's consider some random matrices, check their ranks, and the ranks of their products"
   ]
  },
  {
   "cell_type": "code",
   "execution_count": 10,
   "metadata": {},
   "outputs": [
    {
     "name": "stdout",
     "output_type": "stream",
     "text": [
      "The rank of A is  10\n",
      "The rank of B is  12\n",
      "The rank of AB is  10\n"
     ]
    }
   ],
   "source": [
    "m = 10\n",
    "n = 15\n",
    "p = 12\n",
    "A = np.random.random((m,n))\n",
    "B = np.random.random((n,p))\n",
    "\n",
    "\n",
    "print('The rank of A is ', np.linalg.matrix_rank(A))\n",
    "print('The rank of B is ', np.linalg.matrix_rank(B))\n",
    "print('The rank of AB is ', np.linalg.matrix_rank(A@B))\n",
    "\n",
    "\n",
    "# you could extend this by inventing some matrices that don't have full rank"
   ]
  },
  {
   "cell_type": "markdown",
   "metadata": {},
   "source": [
    "## Homework - A simple mixed determined problem [solved by hand and using the pseudo-inverse]\n",
    "\n",
    "Consider the problem from the lecture\n",
    "\n",
    "$$\n",
    "\\begin{pmatrix}\n",
    "1 & 0 & 0 \\\\\n",
    "1 & 0 & 0 \\\\\n",
    "0 & 2 & 2 \\\\\n",
    "0 & 3 & 3\n",
    "\\end{pmatrix}\n",
    "\\begin{pmatrix}\n",
    "m_1\\\\\n",
    "m_2\\\\\n",
    "m_3\n",
    "\\end{pmatrix}\n",
    "=\n",
    "\\begin{pmatrix}\n",
    "1\\\\\n",
    "2\\\\\n",
    "2\\\\\n",
    "3\n",
    "\\end{pmatrix}.\n",
    "$$\n",
    "\n",
    "Can you come up with a sensible looking \"solution\" to this problem by considering the under- and over-determined components separately?\n",
    "\n",
    "Hint: consider problems for $m_1$ and both $m_2$ and $m_3$ separately, and think about what the least squares and minimum norm solution would be for each.\n",
    "\n",
    "Once you have found the solution \"by-hand\", try using the pseudo-inverse $A^+$ which you can find using the function `np.linalg.pinv(A)`"
   ]
  },
  {
   "cell_type": "markdown",
   "metadata": {},
   "source": [
    "### Solution\n",
    "\n",
    "Since the two parts of this problem are uncoupled (this won't generally be the case), we can consider solving for $m_1$ separately to $m_2$ and $m_3$ (which are coupled to one another).\n",
    "\n",
    "The first two equations tell us that\n",
    "\n",
    "$$m_1 = 1 \\qquad \\textrm{and} \\qquad m_1=2$$\n",
    "\n",
    "without additional information we could simply take \n",
    "\n",
    "$$m_1 = \\frac{3}{2}$$\n",
    "\n",
    "Notice that this does correspond to the least squares solution to this problem.\n",
    "\n",
    "\n",
    "<br>\n",
    "\n",
    "The second part of the problem tells us that \n",
    "\n",
    "$$2m_2 + 2m_3 = 2 \\qquad \\textrm{and} \\qquad 3m_2 + 3m_3 = 3$$\n",
    "\n",
    "but these two just boil down to one equation\n",
    "\n",
    "$$m_2 + m_3 = 1$$\n",
    "\n",
    "So for any $\\alpha\\in \\mathbb{R}$, $m_2 = \\alpha$ and $m_3 = 1 - \\alpha$ is a solution.\n",
    "\n",
    "We have infinuitely many possible solutions, we've seen previously that seeking the minimum norm solution may be a sensible approach (if we know that $\\boldsymbol{m}$ is the perturbation from some a priori model guess for example).\n",
    "\n",
    "We say an example of how to find the mimimim norm solution from an infinite family of solution at the end of L3 - we form the norm as a function of $\\alpha$ and find the $\\alpha$ that minimises this - differentiate and set to zero:\n",
    "\n",
    "for simplicity form the square of the two norm of our solution:\n",
    "\n",
    "$$f(\\alpha) = \\alpha^2 + (1 - \\alpha)^2 =2\\alpha^2 - 2\\alpha + 1$$\n",
    "\n",
    "$$\\frac{df}{d\\alpha} = 4\\alpha - 2$$\n",
    "\n",
    "and so $\\alpha = 1/2$ and a sensible solution to this problem could be taken to be\n",
    "\n",
    "$$\\boldsymbol{m} = \\left(\\frac{3}{2} \\;\\; \\frac{1}{2} \\;\\; \\frac{1}{2} \\right)^T$$\n"
   ]
  },
  {
   "cell_type": "code",
   "execution_count": 11,
   "metadata": {},
   "outputs": [
    {
     "name": "stdout",
     "output_type": "stream",
     "text": [
      "array([1.5, 0.5, 0.5])\n"
     ]
    }
   ],
   "source": [
    "G = np.array([\n",
    "    [1, 0, 0],\n",
    "    [1, 0, 0],\n",
    "    [0, 2, 2],\n",
    "    [0, 3, 3]])\n",
    "\n",
    "d = np.array([1, 2, 2, 3])\n",
    "\n",
    "m = np.linalg.pinv(G) @ d\n",
    "\n",
    "pprint(m)"
   ]
  },
  {
   "cell_type": "markdown",
   "metadata": {},
   "source": [
    "## Homework - A \"least squares\" and minimum norm solution to a simple $2\\times 2$ case\n",
    "\n",
    "In the L2 homework we considered the case \n",
    "\n",
    "$$\n",
    "\\left(\n",
    "  \\begin{array}{rr}\n",
    "    2 & 3 \\\\\n",
    "    4 & 6 \n",
    "  \\end{array}\n",
    "\\right)\\left(\n",
    "  \\begin{array}{c}\n",
    "    x \\\\\n",
    "    y\n",
    "  \\end{array}\n",
    "\\right) = \\left(\n",
    "  \\begin{array}{c}\n",
    "    4 \\\\\n",
    "    7\n",
    "  \\end{array}\n",
    "\\right),\n",
    "$$\n",
    "\n",
    "plotting the two constraints to make the point that this system has no solution:"
   ]
  },
  {
   "cell_type": "code",
   "execution_count": 12,
   "metadata": {},
   "outputs": [
    {
     "data": {
      "image/png": "[encoded data removed]",
      "text/plain": [
       "<Figure size 360x360 with 1 Axes>"
      ]
     },
     "metadata": {
      "needs_background": "light"
     },
     "output_type": "display_data"
    }
   ],
   "source": [
    "# consider the following situation\n",
    "x = np.linspace(-1,5,100)\n",
    "y1 = -(2./3.)*x + (4./3.)\n",
    "y2 = -(4./6.)*x + (7./6.)\n",
    "\n",
    "fig = plt.figure(figsize=(5, 5))\n",
    "\n",
    "ax1 = fig.add_subplot(111)\n",
    "\n",
    "ax1.set_xlabel(\"$x$\", fontsize=14)\n",
    "ax1.set_ylabel(\"$y$\", fontsize=14)\n",
    "ax1.set_title('Two lines', fontsize=14)\n",
    "ax1.grid(True)\n",
    "\n",
    "ax1.plot(x,y1,'b', label='$2x+3y=4$')\n",
    "ax1.plot(x,y2,'r', label='$4x+6y=7$')\n",
    "\n",
    "ax1.legend(loc='best', fontsize=14);"
   ]
  },
  {
   "cell_type": "markdown",
   "metadata": {},
   "source": [
    "What do you think the least square and minimum norm solution is in this case?\n",
    "\n",
    "Note that solution 1 is (I think) the obvious solution.\n",
    "\n",
    "I also present a second solution afterwards which gives a slightly different answer."
   ]
  },
  {
   "cell_type": "markdown",
   "metadata": {},
   "source": [
    "### Solution 1\n",
    "\n",
    "If we divide the second equation by 2 we recognise that the LHSs are the same, but the RHSs are inconsistent - taking the values 4 and 3.5.\n",
    "\n",
    "Clearly the line of solutions where $2x+3y=3.75$ is equally between the two constraints, and so equally valid [NB. we will return to this point in the alternative solution next, and in next lecture].\n",
    "\n",
    "We can parametrise this line by introducing the arbitrary parameter $\\alpha\\in\\mathbb{R}$ and setting $x=\\alpha$, $y = (3.75 - 2\\alpha)/3$.\n",
    "\n",
    "To find the solution in this infinite family introduce the function of $\\alpha$\n",
    "\n",
    "\\begin{align}\n",
    "f(\\alpha) &:= \\alpha^2 + \\left((3.75 - 2\\alpha)/3\\right)^2\\\\\n",
    "&= \\alpha^2 + \\frac{4}{9}\\alpha^2 - \\frac{2\\times 2\\times 3.75}{9}\\alpha + 3.75^2 \\\\\n",
    "& = \\left(1+\\frac{4}{9}\\right) \\alpha^2 - \\frac{15}{9}\\alpha + 3.75^2\n",
    "\\end{align}\n",
    "\n",
    "differentiate w.r.t. $\\alpha$:\n",
    "\n",
    "$$\n",
    "\\frac{df}{d\\alpha} =  2\\left(1+\\frac{4}{9}\\right) \\alpha -  \\frac{15}{9}\n",
    "$$\n",
    "\n",
    "and so $\\alpha = ...$ and our \"solution\" is ... [let's get some help with this:]"
   ]
  },
  {
   "cell_type": "code",
   "execution_count": 13,
   "metadata": {},
   "outputs": [
    {
     "name": "stdout",
     "output_type": "stream",
     "text": [
      "[0.57692308 0.86538462]\n",
      "1.0817307692307692\n",
      "3.75\n"
     ]
    },
    {
     "data": {
      "text/plain": [
       "[<matplotlib.lines.Line2D at 0x1b1dbb118c8>]"
      ]
     },
     "execution_count": 13,
     "metadata": {},
     "output_type": "execute_result"
    },
    {
     "data": {
      "image/png": "[encoded data removed]",
      "text/plain": [
       "<Figure size 360x360 with 1 Axes>"
      ]
     },
     "metadata": {
      "needs_background": "light"
     },
     "output_type": "display_data"
    }
   ],
   "source": [
    "alpha = (15/9)/(2*(1 + 4/9))\n",
    "\n",
    "x_lsmn = np.array([alpha, (3.75 - 2*alpha)/3])\n",
    "print(x_lsmn)\n",
    "print(x_lsmn[0]**2 + x_lsmn[1]**2)\n",
    "print(2*x_lsmn[0] + 3*x_lsmn[1])\n",
    "\n",
    "\n",
    "# plot to check this is located somewhere sensible:\n",
    "\n",
    "# consider the following situation\n",
    "x = np.linspace(-1,2,100)\n",
    "y1 = -(2./3.)*x + (4./3.)\n",
    "y2 = -(4./6.)*x + (7./6.)\n",
    "\n",
    "fig = plt.figure(figsize=(5, 5))\n",
    "\n",
    "ax1 = fig.add_subplot(111)\n",
    "\n",
    "ax1.set_xlabel(\"$x$\", fontsize=14)\n",
    "ax1.set_ylabel(\"$y$\", fontsize=14)\n",
    "ax1.set_title('Two lines', fontsize=14)\n",
    "ax1.grid(True)\n",
    "\n",
    "ax1.plot(x,y1,'b', label='$2x+3y=4$')\n",
    "ax1.plot(x,y2,'r', label='$4x+6y=7$')\n",
    "ax1.plot(x_lsmn[0],x_lsmn[1],'ko', label='Our solution')\n",
    "\n",
    "ax1.legend(loc='best', fontsize=14);\n",
    "\n",
    "# set axis equal so we can get a good idea of a 90 degree angle\n",
    "ax1.axis('equal')\n",
    "ax1.plot([0,x_lsmn[0]], [0,x_lsmn[1]], 'k--')\n",
    "ax1.plot(0,0,'ro', label='The origin')\n"
   ]
  },
  {
   "cell_type": "markdown",
   "metadata": {},
   "source": [
    "### Solution 2\n",
    "\n",
    "Now actually simply stating that \"clearly\" the line in between the two is the least squares solution isn't quite right.\n",
    "\n",
    "If you start by stating that \n",
    "\n",
    "$$2x+3y = \\beta$$\n",
    "\n",
    "and so \n",
    "\n",
    "$$4x+6y = 2\\beta$$\n",
    "\n",
    "then the least squares solution is actually corresponds with the value of $\\beta$ that minimises the least square error \n",
    "\n",
    "$$ (4 - \\beta)^2 + (7-2\\beta)^2$$\n",
    "\n",
    "if you minimse this you find $\\beta = 3.6$. \n",
    "\n",
    "<br>\n",
    "\n",
    "\n",
    "[The point here is that the minimiser of $ (4 - \\beta)^2 + (7-2\\beta)^2$ is not the same as the minimiser of $ (4 - \\beta)^2 + (3.5-\\beta)^2$! So our initial intuition in solution 1 was technically wrong. The former is effectively weighting the misfit in our satisfaction of the second equation more than the first.]\n",
    "\n",
    "\n",
    "<br>\n",
    "\n",
    "We can then repeat the solution above but starting from $2x+3y=3.6$ ...\n",
    "\n",
    "We can parametrise this line by introducing the arbitrary parameter $\\alpha\\in\\mathbb{R}$ and setting $x=\\alpha$, $y = (3.6 - 2\\alpha)/3$.\n",
    "\n",
    "To find the solution in this infinite family introduce the function of $\\alpha$\n",
    "\n",
    "\\begin{align}\n",
    "f(\\alpha) &:= \\alpha^2 + \\left((3.6 - 2\\alpha)/3\\right)^2\\\\\n",
    "&= \\alpha^2 + \\frac{4}{9}\\alpha^2 - \\frac{2\\times 2\\times 3.6}{9}\\alpha + 3.6^2 \\\\\n",
    "& = \\left(1+\\frac{4}{9}\\right) \\alpha^2 - \\frac{4\\times 3.6}{9}\\alpha + 3.6^2\n",
    "\\end{align}\n",
    "\n",
    "differentiate w.r.t. $\\alpha$:\n",
    "\n",
    "$$\n",
    "\\frac{df}{d\\alpha} =  2\\left(1+\\frac{4}{9}\\right) \\alpha -  \\frac{4\\times 3.6}{9}\n",
    "$$\n",
    "\n",
    "and so $\\alpha = ...$ and our \"solution\" is ... [let's get some help with this:]"
   ]
  },
  {
   "cell_type": "code",
   "execution_count": 14,
   "metadata": {},
   "outputs": [
    {
     "name": "stdout",
     "output_type": "stream",
     "text": [
      "[0.55384615 0.88076923]\n",
      "1.0825\n",
      "3.75\n"
     ]
    },
    {
     "data": {
      "text/plain": [
       "[<matplotlib.lines.Line2D at 0x1b1dbbb7148>]"
      ]
     },
     "execution_count": 14,
     "metadata": {},
     "output_type": "execute_result"
    },
    {
     "data": {
      "image/png": "[encoded data removed]",
      "text/plain": [
       "<Figure size 360x360 with 1 Axes>"
      ]
     },
     "metadata": {
      "needs_background": "light"
     },
     "output_type": "display_data"
    }
   ],
   "source": [
    "alpha = ((4*3.6)/9)/(2*(1 + 4/9))\n",
    "\n",
    "x_lsmn = np.array([alpha, (3.75 - 2*alpha)/3])\n",
    "print(x_lsmn)\n",
    "print(x_lsmn[0]**2 + x_lsmn[1]**2)\n",
    "print(2*x_lsmn[0] + 3*x_lsmn[1])\n",
    "# plot to check this is located somewhere sensible:\n",
    "\n",
    "# consider the following situation\n",
    "x = np.linspace(-1,2,100)\n",
    "y1 = -(2./3.)*x + (4./3.)\n",
    "y2 = -(4./6.)*x + (7./6.)\n",
    "\n",
    "fig = plt.figure(figsize=(5, 5))\n",
    "\n",
    "ax1 = fig.add_subplot(111)\n",
    "\n",
    "ax1.set_xlabel(\"$x$\", fontsize=14)\n",
    "ax1.set_ylabel(\"$y$\", fontsize=14)\n",
    "ax1.set_title('Two lines', fontsize=14)\n",
    "ax1.grid(True)\n",
    "\n",
    "ax1.plot(x,y1,'b', label='$2x+3y=4$')\n",
    "ax1.plot(x,y2,'r', label='$4x+6y=7$')\n",
    "ax1.plot(x_lsmn[0],x_lsmn[1],'ko', label='Our solution')\n",
    "\n",
    "ax1.legend(loc='best', fontsize=14);\n",
    "\n",
    "# set axis equal so we can get a good idea of a 90 degree angle\n",
    "ax1.axis('equal')\n",
    "ax1.plot([0,x_lsmn[0]], [0,x_lsmn[1]], 'k--')\n",
    "ax1.plot(0,0,'ro', label='The origin')\n"
   ]
  },
  {
   "cell_type": "markdown",
   "metadata": {},
   "source": [
    "Visually there's no difference, but we will see in the homework to L5 that it's the latter solution we obtain with $G$ in its original form, but if we divide the second equation by 2 we arrive at the first solution."
   ]
  },
  {
   "cell_type": "markdown",
   "metadata": {},
   "source": [
    "## Homework - Lagrange multiplier derivation of minimal-norm solution\n",
    "\n",
    "Recall we had the Lagrangian function\n",
    "$$\n",
    "\\mathcal{L}(\\boldsymbol{m}, \\boldsymbol{\\lambda}) :=  \\boldsymbol{m}^T\\boldsymbol{m} - \\boldsymbol{\\lambda}^T (G\\boldsymbol{m} - \\boldsymbol{d})\n",
    "$$\n",
    "\n",
    "where $\\boldsymbol{\\lambda}$ is the Lagrange multiplier that is introduced to enforce the constraint - here the constraint is vector values and so $\\boldsymbol{\\lambda}$ is a vector of Lagrange multipliers. \n",
    "\n",
    "We stated that \n",
    "\n",
    "$$\\boldsymbol{0}=\\nabla_{\\boldsymbol{m}}\\mathcal{L} = 2\\boldsymbol{m} - G^T\\boldsymbol{\\lambda}$$\n",
    "\n",
    "Consider a simple example to convince yourself this is true:\n",
    "\n",
    "start with \n",
    "\n",
    "$$G =\n",
    "\\begin{pmatrix}\n",
    "G_{11} & G_{12}\\\\\n",
    "G_{21} & G_{22}\n",
    "\\end{pmatrix},\\quad\n",
    "\\boldsymbol{m} = \n",
    "\\begin{pmatrix}\n",
    "m_1\\\\\n",
    "m_2\n",
    "\\end{pmatrix},\\quad\n",
    "\\boldsymbol{d} = \n",
    "\\begin{pmatrix}\n",
    "d_1\\\\\n",
    "d_2\n",
    "\\end{pmatrix},\\quad\n",
    "\\boldsymbol{\\lambda} = \n",
    "\\begin{pmatrix}\n",
    "\\lambda_1\\\\\n",
    "\\lambda_2\n",
    "\\end{pmatrix}\n",
    "$$\n",
    "\n",
    "write out $\\mathcal{L}$ in full, i.e. perform the relevant matrix/vector arithmetic to compute the resulting scalar quantity, compute the gradient, and demontrate that the result is equal to $2\\boldsymbol{m} - G^T\\boldsymbol{\\lambda}$."
   ]
  },
  {
   "cell_type": "markdown",
   "metadata": {},
   "source": [
    "### Solution\n",
    "\n",
    "To begin we need to calculate $\\boldsymbol{m}^T\\boldsymbol{m} - \\boldsymbol{\\lambda}^T (G\\boldsymbol{m} - \\boldsymbol{d})$.\n",
    "\n",
    "The first term is easy:\n",
    "\n",
    "$$\\boldsymbol{m}^T\\boldsymbol{m} = m_1^2 + m_2^2.$$\n",
    "\n",
    "For the second term let's first write out $G\\boldsymbol{m} - \\boldsymbol{d}$ before we pre-multiply by $\\boldsymbol{\\lambda}^T$:\n",
    "\n",
    "\n",
    "\\begin{align}\n",
    "G\\boldsymbol{m} - \\boldsymbol{d} \n",
    "&= \n",
    "\\begin{pmatrix}\n",
    "G_{11} & G_{12}\\\\\n",
    "G_{21} & G_{22}\n",
    "\\end{pmatrix} \n",
    "\\begin{pmatrix}\n",
    "m_1\\\\\n",
    "m_2\n",
    "\\end{pmatrix}- \n",
    "\\begin{pmatrix}\n",
    "d_1\\\\\n",
    "d_2\n",
    "\\end{pmatrix}\\\\[10pt]\n",
    "&=\n",
    "\\begin{pmatrix}\n",
    "G_{11}m_1 + G_{12}m_2 - d_1\\\\\n",
    "G_{21}m_1 + G_{22}m_2 - d_2\\\\\n",
    "\\end{pmatrix}\n",
    "\\end{align}\n",
    "\n",
    "and so\n",
    "\n",
    "\\begin{align}\n",
    "\\boldsymbol{\\lambda}^T (G\\boldsymbol{m} - \\boldsymbol{d})\n",
    "&= \n",
    "\\begin{pmatrix}\n",
    "\\lambda_1 &\\lambda_2\n",
    "\\end{pmatrix}\n",
    "\\begin{pmatrix}\n",
    "G_{11}m_1 + G_{12}m_2 - d_1\\\\\n",
    "G_{21}m_1 + G_{22}m_2 - d_2\\\\\n",
    "\\end{pmatrix}\\\\[10pt]\n",
    "&= \\lambda_1 (G_{11}m_1 + G_{12}m_2 - d_1) + \\lambda_2 (G_{21}m_1 + G_{22}m_2 - d_2)\n",
    "\\end{align}\n",
    "\n",
    "Combining we have the  scalar quantity\n",
    "\n",
    "\\begin{align}\n",
    "\\mathcal{L}(\\boldsymbol{m}, \\boldsymbol{\\lambda}) &=  \\boldsymbol{m}^T\\boldsymbol{m} - \\boldsymbol{\\lambda}^T (G\\boldsymbol{m} - \\boldsymbol{d})\\\\\n",
    "&=\n",
    "m_1^2 + m_2^2\n",
    "- \\lambda_1 (G_{11}m_1 + G_{12}m_2 - d_1) - \\lambda_2 (G_{21}m_1 + G_{22}m_2 - d_2)\n",
    "\\end{align}\n",
    "\n",
    "\n",
    "next step is to take the gradient w.r.t. $\\boldsymbol{m}$:\n",
    "\n",
    "\\begin{align}\n",
    "\\nabla_{\\boldsymbol{m}}\\mathcal{L} & = \n",
    "\\begin{pmatrix}\n",
    "\\frac{\\partial}{\\partial m_1}\\\\\n",
    "\\frac{\\partial}{\\partial m_2}\n",
    "\\end{pmatrix}\n",
    "\\mathcal{L}\\\\[10pt]\n",
    "& = \n",
    "\\begin{pmatrix}\n",
    "\\frac{\\partial}{\\partial m_1}(m_1^2 + m_2^2\n",
    "- \\lambda_1 (G_{11}m_1 + G_{12}m_2 - d_1) - \\lambda_2 (G_{21}m_1 + G_{22}m_2 - d_2))\\\\\n",
    "\\frac{\\partial}{\\partial m_2}(m_1^2 + m_2^2\n",
    "- \\lambda_1 (G_{11}m_1 + G_{12}m_2 - d_1) - \\lambda_2 (G_{21}m_1 + G_{22}m_2 - d_2))\n",
    "\\end{pmatrix}\\\\[10pt]\n",
    "& = \n",
    "\\begin{pmatrix}\n",
    "2m_1 \n",
    "- \\lambda_1 G_{11}  - \\lambda_2 G_{21}\\\\\n",
    "2m_2 \n",
    "- \\lambda_1 G_{12}  - \\lambda_2 G_{22}\n",
    "\\end{pmatrix}\n",
    "\\end{align}\n",
    "\n",
    "\n",
    "\n",
    "Now let's check that this is equal to $2\\boldsymbol{m} - G^T\\boldsymbol{\\lambda}$ as we claimed\n",
    "\n",
    "\\begin{align}\n",
    "2\\boldsymbol{m} - G^T\\boldsymbol{\\lambda}\n",
    "& = \n",
    "\\begin{pmatrix}\n",
    "2m_1 \\\\\n",
    "2m_2\n",
    "\\end{pmatrix}\n",
    "- \n",
    "\\begin{pmatrix}\n",
    "G_{11} & G_{21}\\\\\n",
    "G_{12} & G_{22}\n",
    "\\end{pmatrix} \n",
    "\\begin{pmatrix}\n",
    "\\lambda_1 \\\\\n",
    "\\lambda_2\n",
    "\\end{pmatrix}\\\\[10pt]\n",
    "& = \n",
    "\\begin{pmatrix}\n",
    "2m_1 \\\\\n",
    "2m_2\n",
    "\\end{pmatrix}\n",
    "- \n",
    "\\begin{pmatrix}\n",
    "G_{11}\\lambda_1 + G_{21}\\lambda_2\\\\\n",
    "G_{12}\\lambda_1 + G_{22}\\lambda_2\n",
    "\\end{pmatrix}\n",
    "\\end{align}\n",
    "\n",
    "these are equal, and so we are finished."
   ]
  },
  {
   "cell_type": "code",
   "execution_count": null,
   "metadata": {},
   "outputs": [],
   "source": []
  },
  {
   "cell_type": "markdown",
   "metadata": {},
   "source": [
    "## Homework - Differentiation of inner products \n",
    "\n",
    "Suppose that $\\boldsymbol{a}$ and $\\boldsymbol{b}$ are both functions of $\\boldsymbol{x}$. Suppose $\\boldsymbol{a}$ and $\\boldsymbol{b}$ are vectors of length $m$, and $\\boldsymbol{x}$ are vectors of length $n$.\n",
    "\n",
    "What is\n",
    "\n",
    "$$\\frac{\\partial}{\\partial \\boldsymbol{x}} \\left(\\boldsymbol{a}^T\\boldsymbol{b}\\right)$$\n",
    "\n",
    "?\n",
    "\n",
    "First note the object inside the bracket is the inner (or dot) product of the two vectors, and so is itself a scalar.\n",
    "\n",
    "The derivative (or gradient) w.r.t. $\\boldsymbol{x}$ is a vector the same length as $\\boldsymbol{x}$.\n",
    "\n",
    "<br>\n",
    "\n",
    "The answer (if you work it out component by component) turns out to be equivalent to\n",
    "\n",
    "$$\\frac{\\partial}{\\partial \\boldsymbol{x}} \\left(\\boldsymbol{a}^T\\boldsymbol{b}\\right) \n",
    "=\\left(\\frac{\\partial \\boldsymbol{a}}{\\partial \\boldsymbol{x}}\\right)^T\\boldsymbol{b} +\n",
    "\\left(\\frac{\\partial \\boldsymbol{b}}{\\partial \\boldsymbol{x}}\\right)^T\\boldsymbol{a}$$\n",
    "\n",
    "The differentials $\\partial \\boldsymbol{a}/\\partial \\boldsymbol{x}$ and  $\\partial \\boldsymbol{a}/\\partial \\boldsymbol{x}$ are both $m\\times n$ matrices, so that their\n",
    "transposes are $n\\times m$. \n",
    "\n",
    "Thus the products \n",
    "$(\\partial \\boldsymbol{a}^T/\\partial \\boldsymbol{x}) \\boldsymbol{b}$ and  $(\\partial \\boldsymbol{a}^T/\\partial \\boldsymbol{x}) \\boldsymbol{a}$\n",
    "are both column vectors of length $n$ as \n",
    "required.    Note  that  it  does  not  matter  if  we  differentiate  a  vector  and  then  transpose  the \n",
    "result, or if we transpose the vector before differentiation - both generate the same outcome. "
   ]
  },
  {
   "cell_type": "markdown",
   "metadata": {},
   "source": [
    "### Solution\n",
    "\n",
    "<https://proofwiki.org/wiki/Derivative_of_Dot_Product_of_Vector-Valued_Functions>"
   ]
  },
  {
   "cell_type": "markdown",
   "metadata": {},
   "source": [
    "##  Homework - Curve-fitting - response to outliers [read-through]\n",
    "\n",
    "Here we are going to fit a *linear* line to some invented data, and see what happens if we create an outlier - how much is the slope of the best-fit line impacted?\n",
    "\n",
    "As numpy's polyfit function only has the option to minimise the 2 norm, we have to do some work ourselves to create an approach that minimses other norms - so just read through the following solution."
   ]
  },
  {
   "cell_type": "code",
   "execution_count": 15,
   "metadata": {},
   "outputs": [
    {
     "data": {
      "image/png": "[encoded data removed]",
      "text/plain": [
       "<Figure size 576x432 with 1 Axes>"
      ]
     },
     "metadata": {
      "needs_background": "light"
     },
     "output_type": "display_data"
    }
   ],
   "source": [
    "# Invent some raw data - we will use the notation (xi,yi) for the\n",
    "# given data, where xi and yi are of length N+1 (N=len(xi)-1)\n",
    "xi = np.linspace(0,1,10)\n",
    "yi = xi +  0.2 * np.random.random((10,))\n",
    "\n",
    "# We will want to overlay a plot of the raw data a few times below so \n",
    "# let's do this via a function that we can call repeatedly\n",
    "# [Note that I've been a bit lazy in later lectures and really should\n",
    "# do this sort of thing more often to make code easier to read - apologies]\n",
    "def plot_raw_data(xi, yi, ax):\n",
    "    \"\"\"plot x vs y on axes ax, \n",
    "    add axes labels and turn on grid\n",
    "    \"\"\"\n",
    "    ax.plot(xi, yi, 'ko', label='raw data')\n",
    "    ax.set_xlabel('$x$', fontsize=16)\n",
    "    ax.set_ylabel('$y$', fontsize=16)\n",
    "    ax.grid(True)\n",
    "\n",
    "\n",
    "# set up figure\n",
    "fig = plt.figure(figsize=(8, 6))\n",
    "ax1 = fig.add_subplot(111)\n",
    "\n",
    "# For clarity we are going to add a small margin to all the plots.\n",
    "ax1.margins(0.1)\n",
    "\n",
    "# plot the raw data\n",
    "plot_raw_data(xi, yi, ax1)\n",
    "\n",
    "# add a figure title\n",
    "ax1.set_title('Our simple raw data', fontsize=16)\n",
    "\n",
    "# Add a legend\n",
    "ax1.legend(loc='best', fontsize=14);\n",
    "# loc='best' means we let matplotlib decide the best place for the\n",
    "# legend to go.  For other options see \n",
    "#  https://matplotlib.org/api/_as_gen/matplotlib.pyplot.legend.html"
   ]
  },
  {
   "cell_type": "code",
   "execution_count": 16,
   "metadata": {},
   "outputs": [
    {
     "name": "stdout",
     "output_type": "stream",
     "text": [
      "poly_coeffs:  [1.0246532  0.09189181]\n"
     ]
    },
    {
     "data": {
      "image/png": "[encoded data removed]",
      "text/plain": [
       "<Figure size 576x432 with 1 Axes>"
      ]
     },
     "metadata": {
      "needs_background": "light"
     },
     "output_type": "display_data"
    }
   ],
   "source": [
    "# Fit a polynomial of degree 1, i.e. a straight line, to our (xi, yi) data from above\n",
    "# we'll explain what's going on here later in this lecture\n",
    "degree = 1\n",
    "poly_coeffs = np.polyfit(xi, yi, degree)\n",
    "print('poly_coeffs: ',poly_coeffs)\n",
    "\n",
    "# use poly1d to turn the coeffs into a function, p1, we can evaluate\n",
    "p1 = np.poly1d(poly_coeffs)\n",
    "\n",
    "# set up figure\n",
    "fig = plt.figure(figsize=(8, 6))\n",
    "ax1 = fig.add_subplot(111)\n",
    "ax1.margins(0.1)\n",
    "\n",
    "# Plot the linear fit - define 100 evenly spaced points (x) covering our\n",
    "# x extent and plot our linear polynomial evaluated at these points (p1(x))\n",
    "# of course 100 is overkill for this linear example\n",
    "x = np.linspace(0., 1, 100)\n",
    "\n",
    "ax1.plot(x, p1(x), 'b', label=r'$y = {0:.4f}x+{1:.4f}$'.format(poly_coeffs[0], poly_coeffs[1]))\n",
    "\n",
    "# Overlay raw data\n",
    "plot_raw_data(xi, yi, ax1)\n",
    "\n",
    "# Add a legend\n",
    "ax1.legend(loc='best', fontsize=14)\n",
    "\n",
    "# add a figure title\n",
    "ax1.set_title('Raw data and the corresponding linear best fit line', fontsize=16);"
   ]
  },
  {
   "cell_type": "markdown",
   "metadata": {},
   "source": [
    "We have used NumPy's polynomial fitting function which \"minimises the squared error\" <https://docs.scipy.org/doc/numpy/reference/generated/numpy.polyfit.html>\n",
    "\n",
    "i.e. it seeks the polynomial (here we chose just a straight line) which minimises the two-norm of the errors at the locations where we have data.\n",
    "\n",
    "We can code this up ourselves using SciPy, and in doing so check out code recreates above when we choose the two-norm, but also see what happens if we select other norms with which to define the best fitting line."
   ]
  },
  {
   "cell_type": "code",
   "execution_count": 17,
   "metadata": {},
   "outputs": [
    {
     "data": {
      "image/png": "[encoded data removed]",
      "text/plain": [
       "<Figure size 720x720 with 4 Axes>"
      ]
     },
     "metadata": {
      "needs_background": "light"
     },
     "output_type": "display_data"
    }
   ],
   "source": [
    "from scipy.optimize import minimize\n",
    "\n",
    "def line_fit(x, line_coeffs):\n",
    "    return line_coeffs[0]*x + line_coeffs[1]\n",
    "\n",
    "def cost_fun(line_coeffs, x, y, norm):\n",
    "    if norm=='two':\n",
    "        return sl.norm(y - line_fit(x, line_coeffs), 2)\n",
    "    elif norm=='one':\n",
    "        return sl.norm(y - line_fit(x, line_coeffs), 1)\n",
    "    elif norm=='max':\n",
    "        return sl.norm(y - line_fit(x, line_coeffs), np.inf)\n",
    "    else:\n",
    "        raise ValueError('check your norm string')\n",
    "\n",
    "degree = 1\n",
    "poly_coeffs = np.polyfit(xi, yi, degree)\n",
    "p1 = np.poly1d(poly_coeffs)\n",
    "\n",
    "# set up figure\n",
    "fig = plt.figure(figsize=(10, 10))\n",
    "ax = fig.add_subplot(221)\n",
    "ax.margins(0.1)\n",
    "x = np.linspace(0., 1, 100)\n",
    "ax.plot(x, p1(x), 'b', label=r'$y = {0:.4f}x+{1:.4f}$'.format(poly_coeffs[0], poly_coeffs[1]))\n",
    "plot_raw_data(xi, yi, ax)\n",
    "ax.legend(loc='best', fontsize=14)\n",
    "ax.set_title('polyfit  linear best fit line', fontsize=12)\n",
    "        \n",
    "x0 = poly_coeffs\n",
    "output = minimize(cost_fun, x0, args=(xi,yi,'two'))\n",
    "# use poly1d to turn the coeffs into a function, p1, we can evaluate\n",
    "p1 = np.poly1d(output.x)\n",
    "ax = fig.add_subplot(222)\n",
    "ax.margins(0.1)\n",
    "x = np.linspace(0., 1, 100)\n",
    "ax.plot(x, p1(x), 'b', label=r'$y = {0:.4f}x+{1:.4f}$'.format(output.x[0], output.x[1]))\n",
    "plot_raw_data(xi, yi, ax)\n",
    "ax.legend(loc='best', fontsize=14)\n",
    "ax.set_title('Best fit (two-norm)', fontsize=12)\n",
    "\n",
    "x0 = poly_coeffs\n",
    "output = minimize(cost_fun, x0, args=(xi,yi,'one'))\n",
    "# use poly1d to turn the coeffs into a function, p1, we can evaluate\n",
    "p1 = np.poly1d(output.x)\n",
    "ax = fig.add_subplot(223)\n",
    "ax.margins(0.1)\n",
    "x = np.linspace(0., 1, 100)\n",
    "ax.plot(x, p1(x), 'b', label=r'$y = {0:.4f}x+{1:.4f}$'.format(output.x[0], output.x[1]))\n",
    "plot_raw_data(xi, yi, ax)\n",
    "ax.legend(loc='best', fontsize=14)\n",
    "ax.set_title('Best fit (one-norm)', fontsize=12)\n",
    "\n",
    "x0 = poly_coeffs\n",
    "output = minimize(cost_fun, x0, args=(xi,yi,'max'))\n",
    "# use poly1d to turn the coeffs into a function, p1, we can evaluate\n",
    "p1 = np.poly1d(output.x)\n",
    "ax = fig.add_subplot(224)\n",
    "ax.margins(0.1)\n",
    "x = np.linspace(0., 1, 100)\n",
    "ax.plot(x, p1(x), 'b', label=r'$y = {0:.4f}x+{1:.4f}$'.format(output.x[0], output.x[1]))\n",
    "plot_raw_data(xi, yi, ax)\n",
    "ax.legend(loc='best', fontsize=14)\n",
    "ax.set_title('Best fit (max-norm)', fontsize=12)\n",
    "\n",
    "\n",
    "plt.tight_layout(pad = 2.0)"
   ]
  },
  {
   "cell_type": "markdown",
   "metadata": {},
   "source": [
    "Note that our code recreates the `numpy.polyfit` result when we choose the two-norm. Note also that we get slightly different results when we use the one-norm or the max-norm.\n",
    "\n",
    "These results are all equally valid. The fact that `numpy.polyfit` implements the two-norm without giving us the ability to change the norm highlights that so-called \"least squares\" fitting is by far the most common approach, but there may be situations where the other norms are beneficial.\n",
    "\n",
    "Let's see what happens when we perturb a single entry - this is motivated by a situation where maybe one of our sensors failed and gave a spurious result."
   ]
  },
  {
   "cell_type": "code",
   "execution_count": 18,
   "metadata": {},
   "outputs": [
    {
     "data": {
      "image/png": "[encoded data removed]",
      "text/plain": [
       "<Figure size 720x720 with 4 Axes>"
      ]
     },
     "metadata": {
      "needs_background": "light"
     },
     "output_type": "display_data"
    }
   ],
   "source": [
    "#perturb one of the entries\n",
    "\n",
    "yi[8] = 2.\n",
    "\n",
    "degree = 1\n",
    "poly_coeffs = np.polyfit(xi, yi, degree)\n",
    "p1 = np.poly1d(poly_coeffs)\n",
    "\n",
    "# set up figure\n",
    "fig = plt.figure(figsize=(10, 10))\n",
    "ax = fig.add_subplot(221)\n",
    "ax.margins(0.1)\n",
    "x = np.linspace(0., 1, 100)\n",
    "ax.plot(x, p1(x), 'b', label=r'$y = {0:.4f}x+{1:.4f}$'.format(poly_coeffs[0], poly_coeffs[1]))\n",
    "plot_raw_data(xi, yi, ax)\n",
    "ax.legend(loc='best', fontsize=14)\n",
    "ax.set_title('polyfit  linear best fit line', fontsize=12)\n",
    "        \n",
    "x0 = poly_coeffs\n",
    "output = minimize(cost_fun, x0, args=(xi,yi,'two'))\n",
    "# use poly1d to turn the coeffs into a function, p1, we can evaluate\n",
    "p1 = np.poly1d(output.x)\n",
    "ax = fig.add_subplot(222)\n",
    "ax.margins(0.1)\n",
    "x = np.linspace(0., 1, 100)\n",
    "ax.plot(x, p1(x), 'b', label=r'$y = {0:.4f}x+{1:.4f}$'.format(output.x[0], output.x[1]))\n",
    "plot_raw_data(xi, yi, ax)\n",
    "ax.legend(loc='best', fontsize=14)\n",
    "ax.set_title('Best fit (two-norm)', fontsize=12)\n",
    "\n",
    "x0 = poly_coeffs\n",
    "output = minimize(cost_fun, x0, args=(xi,yi,'one'))\n",
    "# use poly1d to turn the coeffs into a function, p1, we can evaluate\n",
    "p1 = np.poly1d(output.x)\n",
    "ax = fig.add_subplot(223)\n",
    "ax.margins(0.1)\n",
    "x = np.linspace(0., 1, 100)\n",
    "ax.plot(x, p1(x), 'b', label=r'$y = {0:.4f}x+{1:.4f}$'.format(output.x[0], output.x[1]))\n",
    "plot_raw_data(xi, yi, ax)\n",
    "ax.legend(loc='best', fontsize=14)\n",
    "ax.set_title('Best fit (one-norm)', fontsize=12)\n",
    "\n",
    "x0 = poly_coeffs\n",
    "output = minimize(cost_fun, x0, args=(xi,yi,'max'))\n",
    "# use poly1d to turn the coeffs into a function, p1, we can evaluate\n",
    "p1 = np.poly1d(output.x)\n",
    "ax = fig.add_subplot(224)\n",
    "ax.margins(0.1)\n",
    "x = np.linspace(0., 1, 100)\n",
    "ax.plot(x, p1(x), 'b', label=r'$y = {0:.4f}x+{1:.4f}$'.format(output.x[0], output.x[1]))\n",
    "plot_raw_data(xi, yi, ax)\n",
    "ax.legend(loc='best', fontsize=14)\n",
    "ax.set_title('Best fit (max-norm)', fontsize=12)\n",
    "\n",
    "\n",
    "plt.tight_layout(pad = 2.0)"
   ]
  },
  {
   "cell_type": "markdown",
   "metadata": {},
   "source": [
    "If you compare the resulting slopes of the best fit lines, between this case with the outlier with the previous slopes without the outlier, you should see that the one-norm is by far the least impacted while the max-norm is the most impacted.\n"
   ]
  },
  {
   "cell_type": "markdown",
   "metadata": {},
   "source": [
    "## Homework - Tomography example - rank and null space\n",
    "\n",
    "In the lecture we introduced the following problem as an example of a ***mixed-determined*** problem motivated by stright ray tomography.\n",
    "\n",
    "$$\n",
    "\\begin{pmatrix}\n",
    "1 & 1 & 1 & 0 & 0 & 0 & 0 & 0 & 0 \\\\\n",
    "0 & 0 & 0 & 1 & 1 & 1 & 0 & 0 & 0 \\\\\n",
    "\\vdots & \\vdots & \\vdots & \\vdots & \\vdots & \\vdots & \\vdots & \\vdots & \\vdots  \\\\\n",
    "0 & 0 & 1 & 0 & 0 & 1 & 0 & 0 & 1\n",
    "\\end{pmatrix}\n",
    "\\begin{pmatrix}\n",
    "x_1\\\\\n",
    "x_2\\\\\n",
    "\\vdots \\\\\n",
    "x_9\n",
    "\\end{pmatrix}\n",
    "=\n",
    "\\begin{pmatrix}\n",
    "T_1\\\\\n",
    "T_2\\\\\n",
    "\\vdots \\\\\n",
    "T_6\n",
    "\\end{pmatrix}\n",
    "$$\n",
    "\n",
    "\n",
    "\n",
    "We saw a $4\\times 4$ version of this problem in an earlier lecture.\n",
    "\n",
    "To arrive at this simplified version of the problem, we will assume a body containing nine uniform blocks of \n",
    "unit size, arranged in a $3 \\times 3$ grid, with values labelled 1 to 9 starting top left, and we will only consider ray paths that are perpendicular to the block boundaries so that refraction can be ignored and all the ray paths are straight. Imagine the slightly smaller version of this problem:\n",
    "\n",
    "<img src=\"./figures/straight_ray_tomog_schematic.png\" width=300x>\n",
    "\n",
    "\n",
    "Now, let the slowness of each block be $x_j$, let's simplify by assuming that the size $h=1$, and the total travel time across the model be $T_i$, then the following equations relate the travel times to the slownesses \n",
    "\n",
    "$$\\begin{align*}\n",
    "T_1 &= x_1 + x_2 + x_3\\\\\n",
    "T_2 &= x_4 + x_5 + x_6\\\\\n",
    "& \\vdots \\\\\n",
    "T_6 &= x_3 + x_6 + x_9\n",
    "\\end{align*}\n",
    "$$\n",
    "\n",
    "Given the six measurements, the inverse problem is to determine information \n",
    "about the nine slownesses $x_1, \\ldots x_9$.\n",
    "\n",
    "The equation of condition for this system is \n",
    "\n",
    "\n",
    "$$\n",
    "\\begin{pmatrix}\n",
    "1 & 1 & 1 & 0 & 0 & 0 & 0 & 0 & 0 \\\\\n",
    "0 & 0 & 0 & 1 & 1 & 1 & 0 & 0 & 0 \\\\\n",
    "\\vdots & \\vdots & \\vdots & \\vdots & \\vdots & \\vdots & \\vdots & \\vdots & \\vdots  \\\\\n",
    "0 & 0 & 1 & 0 & 0 & 1 & 0 & 0 & 1\n",
    "\\end{pmatrix}\n",
    "\\begin{pmatrix}\n",
    "x_1\\\\\n",
    "x_2\\\\\n",
    "\\vdots \\\\\n",
    "x_9\n",
    "\\end{pmatrix}\n",
    "=\n",
    "\\begin{pmatrix}\n",
    "T_1\\\\\n",
    "T_2\\\\\n",
    "\\vdots \\\\\n",
    "T_6\n",
    "\\end{pmatrix}\n",
    "$$\n",
    "\n",
    "<br>\n",
    "\n",
    "We can see here why the matrix $G$ is sometimes called the *sensitivity matrix*. \n",
    "\n",
    "The element in the $i$-th row and $j$-th column gives the sensitivity $\\partial T_i/\\partial x_j$ of the $i$-th measurement to a change in the $j$-th model variable.  \n",
    "\n",
    "So, for example, the sixth measurement is only sensitive to $x_3$, $x_6$ and $x_9$, and it is equally sensitive to each of these variables.  \n",
    "\n",
    "Note that when $\\partial T_i/\\partial x_j=0$  a change in the slowness $x_j$  will not affect the value of the travel time $T_i$, thus we can find no information about the value of $x_j$ from the measured value of $T_i$.\n",
    "\n",
    "<br>\n",
    "\n",
    "Let's suppose that there are no errors in the observations, and suppose further than the travel time for all six observations, i.e. along every row and every column, is equal to 6 units ($T_i=6\\; \\forall i$).  \n",
    "\n",
    "Then clearly a homogeneous \"model\" (or solution vector), for which the slowness is each of the nine blocks is 2 will satisfy the data exactly. We can write this as \n",
    "\n",
    "$$\n",
    "\\begin{pmatrix}\n",
    "2 & 2 & 2 \\\\\n",
    "2 & 2 & 2 \\\\\n",
    "2 & 2 & 2\n",
    "\\end{pmatrix}\n",
    "$$\n",
    "\n",
    "\n",
    "However, note that the following solutions also satisfy the data exactly \n",
    "\n",
    "$$\n",
    "\\begin{pmatrix}\n",
    "1 & 2 & 3 \\\\\n",
    "2 & 2 & 2 \\\\\n",
    "3 & 2 & 1 \n",
    "\\end{pmatrix},\\quad\n",
    "\\begin{pmatrix}\n",
    "-2 & 0 & 8 \\\\\n",
    "-2 & 6 & 2 \\\\\n",
    "10 & 0 & -4 \n",
    "\\end{pmatrix},\\quad\n",
    "\\begin{pmatrix}\n",
    "1 & 2 & 3 \\\\\n",
    "2 & 2 & 2 \\\\\n",
    "3 & 2 & 1 \n",
    "\\end{pmatrix},\n",
    "$$\n",
    "\n",
    "we've reordered the 9 solution values which we write as a column vector when specifying our linear system into $3\\times 3$ matrices here so you can more easily map them onto the 2D physical solution domain.\n",
    "\n",
    "The following are also solutions\n",
    "$$\n",
    "\\begin{pmatrix}\n",
    "2+\\alpha & 2-\\alpha & 2 \\\\\n",
    "2-\\alpha & 2+\\alpha & 2 \\\\\n",
    "2 & 2 & 2 \n",
    "\\end{pmatrix}, \\quad\n",
    "\\begin{pmatrix}\n",
    "2 & 2 & 2 \\\\\n",
    "2 & 2+\\beta & 2-\\beta \\\\\n",
    "2 & 2-\\beta & 2+\\beta\n",
    "\\end{pmatrix},\\quad\n",
    "$$\n",
    "where $\\alpha$ and $\\beta$ are arbitrary constants.\n",
    "\n",
    "\n",
    "In this  problem therefore, there are infinitely many model parameters that satisfy the data. \n",
    "\n",
    "Some of these may not satisfy other constraints on the model parameters - for example, the slowness cannot be negative.  \n",
    "\n",
    "But even with external constraints, in a problem such as this there will still be infinitely many models that satisfy the data exactly. \n",
    "\n",
    "<br>\n",
    "\n",
    "**Questions**\n",
    "\n",
    "Use `numpy` to compute the rank of this matrix. What dimension do we expect the null space to be?\n",
    "\n",
    "Starting from the last two of these example solutions, can you figure out an appropriate number of linearly independent vectors that span the the null space of $G$?\n",
    "\n",
    "Can you find a basis for the null space?"
   ]
  },
  {
   "cell_type": "markdown",
   "metadata": {},
   "source": [
    "### Solution\n",
    "\n",
    "Recall that the null space of the sensitivity matrix $G$ is defined as the set of all column vectors $\\boldsymbol{v}$ such that $G\\boldsymbol{v}= \\boldsymbol{0}$.  \n",
    "\n",
    "Let's start by writing our matrix $G$ as a numpy array and compute its rank."
   ]
  },
  {
   "cell_type": "code",
   "execution_count": 19,
   "metadata": {},
   "outputs": [
    {
     "name": "stdout",
     "output_type": "stream",
     "text": [
      "array([[1, 1, 1, 0, 0, 0, 0, 0, 0],\n",
      "       [0, 0, 0, 1, 1, 1, 0, 0, 0],\n",
      "       [0, 0, 0, 0, 0, 0, 1, 1, 1],\n",
      "       [1, 0, 0, 1, 0, 0, 1, 0, 0],\n",
      "       [0, 1, 0, 0, 1, 0, 0, 1, 0],\n",
      "       [0, 0, 1, 0, 0, 1, 0, 0, 1]])\n",
      "5\n"
     ]
    }
   ],
   "source": [
    "# use numpy to work out the rank of G\n",
    "G = np.array([\n",
    "    [1,1,1,0,0,0,0,0,0],\n",
    "    [0,0,0,1,1,1,0,0,0],\n",
    "    [0,0,0,0,0,0,1,1,1],\n",
    "    [1,0,0,1,0,0,1,0,0],\n",
    "    [0,1,0,0,1,0,0,1,0],\n",
    "    [0,0,1,0,0,1,0,0,1]])\n",
    "\n",
    "pprint(G)\n",
    "\n",
    "print(np.linalg.matrix_rank(G))\n"
   ]
  },
  {
   "cell_type": "markdown",
   "metadata": {},
   "source": [
    "By the rank-nullity theorem if the rank of $A$ is 5 we expect the dimention of the null space to be 4 (as $n=9$).\n",
    "\n",
    "Based on the two possible familes of solution given above (after rearrangement into $3\\times 3$) being\n",
    "\n",
    "$$\n",
    "\\begin{pmatrix}\n",
    "2+\\alpha & 2-\\alpha & 2 \\\\\n",
    "2-\\alpha & 2+\\alpha & 2 \\\\\n",
    "2 & 2 & 2 \n",
    "\\end{pmatrix}, \\quad\n",
    "\\begin{pmatrix}\n",
    "2 & 2 & 2 \\\\\n",
    "2 & 2+\\beta & 2-\\beta \\\\\n",
    "2 & 2-\\beta & 2+\\beta\n",
    "\\end{pmatrix},\\quad\n",
    "$$\n",
    "\n",
    "you can hopefully see that we can spot that two possible vectors in the null space are\n",
    "\n",
    "$$\\boldsymbol{n}_1 = (1, \\; -1,\\; 0, \\;-1, \\;1, \\;0, \\;0, \\;0, \\;0)^T$$ \n",
    "\n",
    "$$\\boldsymbol{n}_1 = (0, \\;0, \\;0,\\; 0,\\; 1,\\; -1,\\; 0,\\; -1,\\; 1)^T$$ \n",
    "\n",
    "which we can check by multiplying by $G$:"
   ]
  },
  {
   "cell_type": "code",
   "execution_count": 20,
   "metadata": {},
   "outputs": [
    {
     "name": "stdout",
     "output_type": "stream",
     "text": [
      "array([0, 0, 0, 0, 0, 0])\n",
      "array([0, 0, 0, 0, 0, 0])\n"
     ]
    }
   ],
   "source": [
    "n_1 = np.array([1, -1, 0, -1, 1, 0, 0, 0, 0])\n",
    "pprint(G@n_1)\n",
    "\n",
    "n_2 = np.array([0, 0, 0, 0, 1, -1, 0, -1, 1])\n",
    "pprint(G@n_2)"
   ]
  },
  {
   "cell_type": "markdown",
   "metadata": {},
   "source": [
    "and with a bit of Sudoko like thinking we can come up with another two:"
   ]
  },
  {
   "cell_type": "code",
   "execution_count": 21,
   "metadata": {},
   "outputs": [
    {
     "name": "stdout",
     "output_type": "stream",
     "text": [
      "array([0, 0, 0, 0, 0, 0])\n",
      "array([0, 0, 0, 0, 0, 0])\n"
     ]
    }
   ],
   "source": [
    "n_3 = np.array([0, 1, -1, 0, -1, 1, 0, 0, 0])\n",
    "pprint(G@n_3)\n",
    "\n",
    "n_4 = np.array([0, 0, 0, 1, -1, 0, -1, 1, 0])\n",
    "pprint(G@n_4)"
   ]
  },
  {
   "cell_type": "code",
   "execution_count": 22,
   "metadata": {},
   "outputs": [
    {
     "name": "stdout",
     "output_type": "stream",
     "text": [
      "array([[ 1,  0,  0,  0],\n",
      "       [-1,  0,  1,  0],\n",
      "       [ 0,  0, -1,  0],\n",
      "       [-1,  0,  0,  1],\n",
      "       [ 1,  1, -1, -1],\n",
      "       [ 0, -1,  1,  0],\n",
      "       [ 0,  0,  0, -1],\n",
      "       [ 0, -1,  0,  1],\n",
      "       [ 0,  1,  0,  0]])\n",
      "4\n"
     ]
    }
   ],
   "source": [
    "# form a 9x4 matrix from these null vectors\n",
    "null_vecs = np.vstack((n_1,n_2,n_3,n_4)).T\n",
    "pprint(null_vecs)\n",
    "# and check its rank\n",
    "pprint(np.linalg.matrix_rank(null_vecs))"
   ]
  },
  {
   "cell_type": "markdown",
   "metadata": {},
   "source": [
    "The rank is 4 and so these 4 vectors are linearly independent, they are all in the null space of $G$, and hence they form a basis for the null space for this problem.\n",
    "\n",
    "i.e. given a particular solution such as \n",
    "\n",
    "$$\n",
    "\\begin{pmatrix}\n",
    "2 & 2 & 2 \\\\\n",
    "2 & 2 & 2 \\\\\n",
    "2 & 2 & 2\n",
    "\\end{pmatrix}\n",
    "$$\n",
    "\n",
    "we can add on any linear combination of the following matrices\n",
    "\n",
    "$$\n",
    "\\begin{pmatrix}\n",
    "1 & -1 & 0 \\\\\n",
    "-1 & 1 & 0 \\\\\n",
    "0 & 0 & 0 \n",
    "\\end{pmatrix},\\quad\n",
    "\\begin{pmatrix}\n",
    "0 & 1 & -1 \\\\\n",
    "0 & -1 & 1 \\\\\n",
    "0 & 0 & 0 \n",
    "\\end{pmatrix},\\quad\n",
    "\\begin{pmatrix}\n",
    "0 & 0 & 0 \\\\\n",
    "0 & 1 & -1 \\\\\n",
    "0 & -1 & 1 \n",
    "\\end{pmatrix},\\quad\n",
    "\\begin{pmatrix}\n",
    "0 & 0 & 0 \\\\\n",
    "1 & -1 & 0 \\\\\n",
    "-1 & 1 & 0 \n",
    "\\end{pmatrix}\n",
    "$$ \n",
    "\n",
    "and the result will always satisfy our problem.\n",
    "\n",
    "\n",
    "\n",
    "\n",
    "That is, any model in the null space of $G$ can be written as a linear combination of these four models. The significance of the null space is that, if $\\boldsymbol{v}$ is any vector in the null space, $\\alpha$ is any scalar, and $\\boldsymbol{m}$ is any model that satisfies $G\\boldsymbol{m} = \\boldsymbol{d}$, then the model parameters $\\boldsymbol{m} + \\alpha \\boldsymbol{v}$ also satisfies the observed data $\\boldsymbol{d}$.\n",
    "\n",
    "In other words, we can add any linear combination of vectors from the null space to a model that satisfies the data, and still satisfy the data. \n",
    "\n",
    "For  all  under-determined  and  mixed-determined  problems with a solution (i.e. representing a consistent problem),  the  matrix  $G$  will  have  a  non-trivial null space, that is there will be solutions to  $G\\boldsymbol{v}= 0$ for which  $\\boldsymbol{v}\\ne \\boldsymbol{0}$.  \n",
    "\n",
    "Note that the null space is purely a property of $G$, that is it is a property of the physics and the experimental geometry, and it does not depend upon either the data or the \"model\" (here the solution vector).\n"
   ]
  },
  {
   "cell_type": "markdown",
   "metadata": {},
   "source": [
    "## Homework - Tomography example - solution via the pseudo-inverse\n",
    "\n",
    "In class we introduced the concept of the data potentially containing errors, i.e. if instead of all data values being 6, consider the case with\n",
    "\n",
    "$$ \\boldsymbol{T} = (6.07, 6.07, 5.77, 5.93, 5.93, 6.03)^T $$\n",
    "\n",
    "We stated tht now, even though there are fewer data than model parameters, there is no model that fits the  data exactly.  We can see this because it should be the case from $G$ that\n",
    "\n",
    "$$ T_1  + T_2  + T_3  = T_4  + T_5  + T_6$$  \n",
    "\n",
    "whereas for this data\n",
    "\n",
    "$$ T_1 + T_2  + T_3  = 17.91, \\qquad T_4 + T_5  + T_6  = 17.89 $$\n",
    "\n",
    "so that, with these data, there can be no solution. \n",
    "\n",
    "<br><br>\n",
    "\n",
    "Use the pseudo inverse computed using `np.linalg.pinv` to find a solution. "
   ]
  },
  {
   "cell_type": "markdown",
   "metadata": {},
   "source": [
    "### Solution"
   ]
  },
  {
   "cell_type": "code",
   "execution_count": 23,
   "metadata": {},
   "outputs": [
    {
     "name": "stdout",
     "output_type": "stream",
     "text": [
      "0.0\n",
      "-7.6438855245442e-14\n"
     ]
    }
   ],
   "source": [
    "G = np.array([\n",
    "    [1,1,1,0,0,0,0,0,0],\n",
    "    [0,0,0,1,1,1,0,0,0],\n",
    "    [0,0,0,0,0,0,1,1,1],\n",
    "    [1,0,0,1,0,0,1,0,0],\n",
    "    [0,1,0,0,1,0,0,1,0],\n",
    "    [0,0,1,0,0,1,0,0,1]])\n",
    "\n",
    "print(sl.det(G.T@G))\n",
    "print(sl.det(G@G.T))"
   ]
  },
  {
   "cell_type": "markdown",
   "metadata": {},
   "source": [
    "These are both zero so we can't use our least squares or minimum norm solutions.\n",
    "\n",
    "Let's use the pseudo inverse"
   ]
  },
  {
   "cell_type": "code",
   "execution_count": 24,
   "metadata": {
    "scrolled": true
   },
   "outputs": [
    {
     "name": "stdout",
     "output_type": "stream",
     "text": [
      "array([2.01111111, 2.01111111, 2.04444444, 2.01111111, 2.01111111,\n",
      "       2.04444444, 1.91111111, 1.91111111, 1.94444444])\n"
     ]
    }
   ],
   "source": [
    "G = np.array([\n",
    "    [1,1,1,0,0,0,0,0,0],\n",
    "    [0,0,0,1,1,1,0,0,0],\n",
    "    [0,0,0,0,0,0,1,1,1],\n",
    "    [1,0,0,1,0,0,1,0,0],\n",
    "    [0,1,0,0,1,0,0,1,0],\n",
    "    [0,0,1,0,0,1,0,0,1]])\n",
    "d = np.array([6.07,6.07,5.77,5.93,5.93,6.03])\n",
    "\n",
    "\n",
    "m = np.linalg.pinv(G) @ d\n",
    "\n",
    "pprint(m)"
   ]
  },
  {
   "cell_type": "markdown",
   "metadata": {},
   "source": [
    "Some investigation will show that this solution both provides a least-squares fit to the data – \n",
    "that is, no other solution can provide a better fit.\n",
    "\n",
    "It also provides a minimal-norm solution - that is, no other least-squares solution has a smaller norm than this solution.  \n",
    "\n",
    "Neither of these properties mean of course that the solution is correct, but in many problems it may be the most appropriate solution that we can discover without additional information. "
   ]
  },
  {
   "cell_type": "markdown",
   "metadata": {},
   "source": [
    "## Homework - Damped least squares applied to the tomography example\n",
    "\n",
    "Consider again the tomography example from the previous exercise with noisy data.\n",
    "\n",
    "Now try solving this problem using the damped least squares approach and show that as $\\mu$ tends to zero we recover the same solution as found in the previous question using the generalised inverse."
   ]
  },
  {
   "cell_type": "markdown",
   "metadata": {},
   "source": [
    "### Solution"
   ]
  },
  {
   "cell_type": "code",
   "execution_count": 25,
   "metadata": {},
   "outputs": [
    {
     "name": "stdout",
     "output_type": "stream",
     "text": [
      "array([2.01111111, 2.01111111, 2.04444444, 2.01111111, 2.01111111,\n",
      "       2.04444444, 1.91111111, 1.91111111, 1.94444444])\n",
      "\n",
      "mu= 1.0 \n",
      "\n",
      "array([1.72142857, 1.72142857, 1.74642857, 1.72142857, 1.72142857,\n",
      "       1.74642857, 1.64642857, 1.64642857, 1.67142857])\n",
      "\n",
      "mu= 0.1 \n",
      "\n",
      "array([1.97778953, 1.97778953, 2.01004759, 1.97778953, 1.97778953,\n",
      "       2.01004759, 1.88101534, 1.88101534, 1.9132734 ])\n",
      "\n",
      "mu= 0.010000000000000002 \n",
      "\n",
      "array([2.00772798, 2.00772798, 2.04095058, 2.00772798, 2.00772798,\n",
      "       2.04095058, 1.90806021, 1.90806021, 1.9412828 ])\n",
      "\n",
      "mu= 0.0010000000000000002 \n",
      "\n",
      "array([2.01077228, 2.01077228, 2.04409451, 2.01077228, 2.01077228,\n",
      "       2.04409451, 1.9108056 , 1.9108056 , 1.94412783])\n",
      "\n",
      "mu= 0.00010000000000000002 \n",
      "\n",
      "array([2.01107722, 2.01107722, 2.04440945, 2.01107722, 2.01107722,\n",
      "       2.04440945, 1.91108056, 1.91108056, 1.94441278])\n",
      "\n",
      "mu= 1.0000000000000003e-05 \n",
      "\n",
      "array([2.01110772, 2.01110772, 2.04444094, 2.01110772, 2.01110772,\n",
      "       2.04444094, 1.91110806, 1.91110806, 1.94444128])\n"
     ]
    }
   ],
   "source": [
    "G = np.array([\n",
    "    [1,1,1,0,0,0,0,0,0],\n",
    "    [0,0,0,1,1,1,0,0,0],\n",
    "    [0,0,0,0,0,0,1,1,1],\n",
    "    [1,0,0,1,0,0,1,0,0],\n",
    "    [0,1,0,0,1,0,0,1,0],\n",
    "    [0,0,1,0,0,1,0,0,1]])\n",
    "d = np.array([6.07,6.07,5.77,5.93,5.93,6.03])\n",
    "\n",
    "# use the pinv to compute the solution\n",
    "m = np.linalg.pinv(G) @ d\n",
    "\n",
    "# print the solution obtained using the generalised inverse\n",
    "pprint(m)\n",
    "\n",
    "# now apply our \"least squqres\" analytical approach with \n",
    "# successively smaller regularisation parameters\n",
    "for k in range(6):\n",
    "    mu = 0.1**k\n",
    "    m = sl.inv( G.T@G + mu*np.eye(G.shape[1]) ) @ G.T @ d\n",
    "    print('\\nmu=',mu,'\\n')\n",
    "    pprint(m)\n"
   ]
  },
  {
   "cell_type": "markdown",
   "metadata": {},
   "source": [
    "We do indeed find that as $\\mu$ gets smaller the solution to the damped least squares problem converges to that obtained using the generalised inverse."
   ]
  },
  {
   "cell_type": "code",
   "execution_count": null,
   "metadata": {},
   "outputs": [],
   "source": []
  }
 ],
 "metadata": {
  "celltoolbar": "Slideshow",
  "kernelspec": {
   "display_name": "Python 3 (ipykernel)",
   "language": "python",
   "name": "python3"
  },
  "language_info": {
   "codemirror_mode": {
    "name": "ipython",
    "version": 3
   },
   "file_extension": ".py",
   "mimetype": "text/x-python",
   "name": "python",
   "nbconvert_exporter": "python",
   "pygments_lexer": "ipython3",
   "version": "3.11.4"
  },
  "latex_envs": {
   "LaTeX_envs_menu_present": true,
   "autoclose": true,
   "autocomplete": true,
   "bibliofile": "biblio.bib",
   "cite_by": "apalike",
   "current_citInitial": 1,
   "eqLabelWithNumbers": true,
   "eqNumInitial": 1,
   "hotkeys": {
    "equation": "Ctrl-E",
    "itemize": "Ctrl-I"
   },
   "labels_anchors": false,
   "latex_user_defs": false,
   "report_style_numbering": false,
   "user_envs_cfg": true
  },
  "toc": {
   "base_numbering": 1,
   "nav_menu": {},
   "number_sections": true,
   "sideBar": true,
   "skip_h1_title": false,
   "title_cell": "Table of Contents",
   "title_sidebar": "Contents",
   "toc_cell": true,
   "toc_position": {},
   "toc_section_display": true,
   "toc_window_display": false
  },
  "varInspector": {
   "cols": {
    "lenName": 16,
    "lenType": 16,
    "lenVar": 40
   },
   "kernels_config": {
    "python": {
     "delete_cmd_postfix": "",
     "delete_cmd_prefix": "del ",
     "library": "var_list.py",
     "varRefreshCmd": "print(var_dic_list())"
    },
    "r": {
     "delete_cmd_postfix": ") ",
     "delete_cmd_prefix": "rm(",
     "library": "var_list.r",
     "varRefreshCmd": "cat(var_dic_list()) "
    }
   },
   "types_to_exclude": [
    "module",
    "function",
    "builtin_function_or_method",
    "instance",
    "_Feature"
   ],
   "window_display": false
  }
 },
 "nbformat": 4,
 "nbformat_minor": 1
}
